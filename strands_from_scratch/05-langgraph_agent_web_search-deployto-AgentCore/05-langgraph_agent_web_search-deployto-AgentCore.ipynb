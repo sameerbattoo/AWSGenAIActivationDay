{
 "cells": [
  {
   "cell_type": "markdown",
   "id": "d03f1cf9",
   "metadata": {},
   "source": [
    "# Hosting LangGraph Agents with Amazon Bedrock models in Amazon Bedrock AgentCore Runtime\n",
    "\n",
    "## Overview\n",
    "\n",
    "In this tutorial we will learn how to host your existing LangGraph agent, using Amazon Bedrock AgentCore Runtime. \n",
    "\n",
    "\n",
    "### Tutorial Details\n",
    "\n",
    "\n",
    "| Information         | Details                                                                          |\n",
    "|:--------------------|:---------------------------------------------------------------------------------|\n",
    "| Tutorial type       | Conversational                                                                   |\n",
    "| Agent type          | Single                                                                           |\n",
    "| Agentic Framework   | LangGraph Agents                                                                   |\n",
    "| Tutorial components | Hosting agent on AgentCore Runtime. Using LangGraph Agent and Amazon Bedrock Model |\n",
    "| Tutorial vertical   | Cross-vertical                                                                   |\n",
    "| Example complexity  | Easy                                                                             |\n",
    "| SDK used            | Amazon BedrockAgentCore Python SDK and boto3                                     |\n",
    "\n",
    "\n",
    "\n",
    "### Tutorial Key Features\n",
    "\n",
    "* Hosting LangGraph Agents on Amazon Bedrock AgentCore Runtime\n",
    "* Using Amazon Bedrock models\n",
    "* Using LangGraph Agents\n"
   ]
  },
  {
   "cell_type": "code",
   "execution_count": 1,
   "id": "b38f0569",
   "metadata": {},
   "outputs": [
    {
     "name": "stdout",
     "output_type": "stream",
     "text": [
      "\u001b[33mWARNING: Retrying (Retry(total=4, connect=None, read=None, redirect=None, status=None)) after connection broken by 'ReadTimeoutError(\"HTTPSConnectionPool(host='pypi.org', port=443): Read timed out. (read timeout=15)\")': /simple/pycodestyle/\u001b[0m\u001b[33m\n",
      "\u001b[0m\u001b[31mERROR: pip's dependency resolver does not currently take into account all the packages that are installed. This behaviour is the source of the following dependency conflicts.\n",
      "awscli 1.42.34 requires botocore==1.40.34, but you have botocore 1.40.39 which is incompatible.\u001b[0m\u001b[31m\n",
      "\u001b[0m"
     ]
    }
   ],
   "source": [
    "!pip install --force-reinstall -U -r requirements.txt --quiet"
   ]
  },
  {
   "cell_type": "markdown",
   "id": "aa0c0bf2",
   "metadata": {},
   "source": [
    "## What happens behind the scenes?\n",
    "\n",
    "When you use `BedrockAgentCoreApp`, it automatically:\n",
    "\n",
    "* Creates an HTTP server that listens on the port 8080\n",
    "* Implements the required `/invocations` endpoint for processing the agent's requirements\n",
    "* Implements the `/ping` endpoint for health checks (very important for asynchronous agents)\n",
    "* Handles proper content types and response formats\n",
    "* Manages error handling according to the AWS standards"
   ]
  },
  {
   "cell_type": "markdown",
   "id": "15d5cbb9",
   "metadata": {},
   "source": [
    "### Configure AgentCore Runtime deployment\n",
    "\n",
    "First we will use our starter toolkit to configure the AgentCore Runtime deployment with an entrypoint, the execution role we just created and a requirements file. We will also configure the starter kit to auto create the Amazon ECR repository on launch.\n",
    "\n",
    "During the configure step, your docker file will be generated based on your application code\n",
    "\n",
    "<div style=\"text-align:left\">\n",
    "    <img src=\"images/configure.png\" width=\"60%\"/>\n",
    "</div>"
   ]
  },
  {
   "cell_type": "code",
   "execution_count": 9,
   "id": "e743ff7e",
   "metadata": {},
   "outputs": [
    {
     "name": "stderr",
     "output_type": "stream",
     "text": [
      "Entrypoint parsed: file=/Users/sbattoo/Src/AIActivationDay/strands_from_scratch/05-langgraph_agent_web_search-deployto-AgentCore/langgraph_agent_web_search.py, bedrock_agentcore_name=langgraph_agent_web_search\n",
      "Configuring BedrockAgentCore agent: langgraph_web_search_agent\n",
      "Generated Dockerfile: /Users/sbattoo/Src/AIActivationDay/strands_from_scratch/05-langgraph_agent_web_search-deployto-AgentCore/Dockerfile\n",
      "Generated .dockerignore: /Users/sbattoo/Src/AIActivationDay/strands_from_scratch/05-langgraph_agent_web_search-deployto-AgentCore/.dockerignore\n",
      "Keeping 'langgraph_web_search_agent' as default agent\n",
      "Bedrock AgentCore configured: /Users/sbattoo/Src/AIActivationDay/strands_from_scratch/05-langgraph_agent_web_search-deployto-AgentCore/.bedrock_agentcore.yaml\n"
     ]
    },
    {
     "data": {
      "text/plain": [
       "ConfigureResult(config_path=PosixPath('/Users/sbattoo/Src/AIActivationDay/strands_from_scratch/05-langgraph_agent_web_search-deployto-AgentCore/.bedrock_agentcore.yaml'), dockerfile_path=PosixPath('/Users/sbattoo/Src/AIActivationDay/strands_from_scratch/05-langgraph_agent_web_search-deployto-AgentCore/Dockerfile'), dockerignore_path=PosixPath('/Users/sbattoo/Src/AIActivationDay/strands_from_scratch/05-langgraph_agent_web_search-deployto-AgentCore/.dockerignore'), runtime='Docker', region='us-west-2', account_id='175918693907', execution_role='arn:aws:iam::175918693907:role/_GenAIActivationDay_role', ecr_repository=None, auto_create_ecr=True)"
      ]
     },
     "execution_count": 9,
     "metadata": {},
     "output_type": "execute_result"
    }
   ],
   "source": [
    "from bedrock_agentcore_starter_toolkit import Runtime\n",
    "from boto3.session import Session\n",
    "boto_session = Session()\n",
    "region = boto_session.region_name\n",
    "\n",
    "agentcore_runtime = Runtime()\n",
    "agent_name = \"langgraph_web_search_agent\"\n",
    "response = agentcore_runtime.configure(\n",
    "    entrypoint=\"langgraph_agent_web_search.py\",\n",
    "    execution_role=\"arn:aws:iam::175918693907:role/_GenAIActivationDay_role\",\n",
    "    auto_create_ecr=True,\n",
    "    requirements_file=\"requirements.txt\",\n",
    "    region=region,\n",
    "    agent_name=agent_name\n",
    ")\n",
    "response"
   ]
  },
  {
   "cell_type": "markdown",
   "id": "99353e42",
   "metadata": {},
   "source": [
    "### Launching agent to AgentCore Runtime\n",
    "\n",
    "Now that we've got a docker file, let's launch the agent to the AgentCore Runtime. This will create the Amazon ECR repository and the AgentCore Runtime\n",
    "\n",
    "<div style=\"text-align:left\">\n",
    "    <img src=\"images/launch.png\" width=\"75%\"/>\n",
    "</div>"
   ]
  },
  {
   "cell_type": "code",
   "execution_count": 10,
   "id": "4553a3a9",
   "metadata": {},
   "outputs": [
    {
     "name": "stderr",
     "output_type": "stream",
     "text": [
      "🚀 CodeBuild mode: building in cloud (RECOMMENDED - DEFAULT)\n",
      "   • Build ARM64 containers in the cloud with CodeBuild\n",
      "   • No local Docker required\n",
      "💡 Available deployment modes:\n",
      "   • runtime.launch()                           → CodeBuild (current)\n",
      "   • runtime.launch(local=True)                 → Local development\n",
      "   • runtime.launch(local_build=True)           → Local build + cloud deploy (NEW)\n",
      "Starting CodeBuild ARM64 deployment for agent 'langgraph_web_search_agent' to account 175918693907 (us-west-2)\n",
      "Setting up AWS resources (ECR repository, execution roles)...\n",
      "Getting or creating ECR repository for agent: langgraph_web_search_agent\n",
      "✅ ECR repository available: 175918693907.dkr.ecr.us-west-2.amazonaws.com/bedrock-agentcore-langgraph_web_search_agent\n",
      "Using execution role from config: arn:aws:iam::175918693907:role/_GenAIActivationDay_role\n",
      "Preparing CodeBuild project and uploading source...\n"
     ]
    },
    {
     "name": "stdout",
     "output_type": "stream",
     "text": [
      "✅ Reusing existing ECR repository: 175918693907.dkr.ecr.us-west-2.amazonaws.com/bedrock-agentcore-langgraph_web_search_agent\n"
     ]
    },
    {
     "name": "stderr",
     "output_type": "stream",
     "text": [
      "Getting or creating CodeBuild execution role for agent: langgraph_web_search_agent\n",
      "Role name: AmazonBedrockAgentCoreSDKCodeBuild-us-west-2-1960362299\n",
      "Reusing existing CodeBuild execution role: arn:aws:iam::175918693907:role/AmazonBedrockAgentCoreSDKCodeBuild-us-west-2-1960362299\n",
      "Using .dockerignore with 44 patterns\n",
      "Uploaded source to S3: langgraph_web_search_agent/source.zip\n",
      "Updated CodeBuild project: bedrock-agentcore-langgraph_web_search_agent-builder\n",
      "Starting CodeBuild build (this may take several minutes)...\n",
      "Starting CodeBuild monitoring...\n",
      "🔄 QUEUED started (total: 0s)\n",
      "✅ QUEUED completed in 1.1s\n",
      "🔄 PROVISIONING started (total: 1s)\n",
      "✅ PROVISIONING completed in 10.6s\n",
      "🔄 DOWNLOAD_SOURCE started (total: 12s)\n",
      "✅ DOWNLOAD_SOURCE completed in 1.1s\n",
      "🔄 INSTALL started (total: 13s)\n",
      "✅ INSTALL completed in 1.1s\n",
      "🔄 BUILD started (total: 14s)\n",
      "✅ BUILD completed in 25.4s\n",
      "🔄 POST_BUILD started (total: 39s)\n",
      "✅ POST_BUILD completed in 23.3s\n",
      "🔄 COMPLETED started (total: 63s)\n",
      "✅ COMPLETED completed in 1.1s\n",
      "🎉 CodeBuild completed successfully in 1m 3s\n",
      "CodeBuild completed successfully\n",
      "✅ CodeBuild project configuration saved\n",
      "Deploying to Bedrock AgentCore...\n",
      "⚠️ Session ID will be reset to connect to the updated agent. The previous agent remains accessible via the original session ID: 74a80025-e1e2-4f2f-a86e-879b060d05c5\n",
      "✅ Agent created/updated: arn:aws:bedrock-agentcore:us-west-2:175918693907:runtime/langgraph_web_search_agent-4sUF1a5Wu5\n",
      "Observability is enabled, configuring Transaction Search...\n",
      "CloudWatch Logs resource policy already configured\n",
      "X-Ray trace destination already configured\n",
      "X-Ray indexing rule already configured\n",
      "✅ Transaction Search already fully configured\n",
      "🔍 GenAI Observability Dashboard:\n",
      "   https://console.aws.amazon.com/cloudwatch/home?region=us-west-2#gen-ai-observability/agent-core\n",
      "Polling for endpoint to be ready...\n",
      "Agent endpoint: arn:aws:bedrock-agentcore:us-west-2:175918693907:runtime/langgraph_web_search_agent-4sUF1a5Wu5/runtime-endpoint/DEFAULT\n",
      "Deployment completed successfully - Agent: arn:aws:bedrock-agentcore:us-west-2:175918693907:runtime/langgraph_web_search_agent-4sUF1a5Wu5\n",
      "Built with CodeBuild: bedrock-agentcore-langgraph_web_search_agent-builder:c1726859-0477-4562-9ae1-a37782b10b93\n",
      "Deployed to cloud: arn:aws:bedrock-agentcore:us-west-2:175918693907:runtime/langgraph_web_search_agent-4sUF1a5Wu5\n",
      "ECR image: 175918693907.dkr.ecr.us-west-2.amazonaws.com/bedrock-agentcore-langgraph_web_search_agent\n",
      "🔍 Agent logs available at:\n",
      "   /aws/bedrock-agentcore/runtimes/langgraph_web_search_agent-4sUF1a5Wu5-DEFAULT --log-stream-name-prefix \"2025/09/25/\\[runtime-logs]\"\n",
      "   /aws/bedrock-agentcore/runtimes/langgraph_web_search_agent-4sUF1a5Wu5-DEFAULT --log-stream-names \"otel-rt-logs\"\n",
      "💡 Tail logs with: aws logs tail /aws/bedrock-agentcore/runtimes/langgraph_web_search_agent-4sUF1a5Wu5-DEFAULT --log-stream-name-prefix \"2025/09/25/\\[runtime-logs]\" --follow\n",
      "💡 Or view recent logs: aws logs tail /aws/bedrock-agentcore/runtimes/langgraph_web_search_agent-4sUF1a5Wu5-DEFAULT --log-stream-name-prefix \"2025/09/25/\\[runtime-logs]\" --since 1h\n"
     ]
    }
   ],
   "source": [
    "launch_result = agentcore_runtime.launch(auto_update_on_conflict=True)"
   ]
  },
  {
   "cell_type": "markdown",
   "id": "2531c1dc",
   "metadata": {},
   "source": [
    "### Checking for the AgentCore Runtime Status\n",
    "Now that we've deployed the AgentCore Runtime, let's check for it's deployment status"
   ]
  },
  {
   "cell_type": "code",
   "execution_count": 11,
   "id": "739acd57",
   "metadata": {},
   "outputs": [
    {
     "name": "stderr",
     "output_type": "stream",
     "text": [
      "Retrieved Bedrock AgentCore status for: langgraph_web_search_agent\n"
     ]
    },
    {
     "data": {
      "text/plain": [
       "'READY'"
      ]
     },
     "execution_count": 11,
     "metadata": {},
     "output_type": "execute_result"
    }
   ],
   "source": [
    "import time\n",
    "status_response = agentcore_runtime.status()\n",
    "status = status_response.endpoint['status']\n",
    "end_status = ['READY', 'CREATE_FAILED', 'DELETE_FAILED', 'UPDATE_FAILED']\n",
    "while status not in end_status:\n",
    "    time.sleep(10)\n",
    "    status_response = agentcore_runtime.status()\n",
    "    status = status_response.endpoint['status']\n",
    "    print(status)\n",
    "status"
   ]
  },
  {
   "cell_type": "markdown",
   "id": "4f502f52",
   "metadata": {},
   "source": [
    "### Invoking AgentCore Runtime\n",
    "\n",
    "Finally, we can invoke our AgentCore Runtime with a payload\n",
    "\n",
    "<div style=\"text-align:left\">\n",
    "    <img src=\"images/invoke.png\" width=75%\"/>\n",
    "</div>"
   ]
  },
  {
   "cell_type": "code",
   "execution_count": 12,
   "id": "1011b16e",
   "metadata": {},
   "outputs": [
    {
     "data": {
      "text/plain": [
       "{'ResponseMetadata': {'RequestId': '07c7e6fc-2678-4c20-93ab-f571cecfa176',\n",
       "  'HTTPStatusCode': 200,\n",
       "  'HTTPHeaders': {'date': 'Thu, 25 Sep 2025 22:06:44 GMT',\n",
       "   'content-type': 'application/json',\n",
       "   'transfer-encoding': 'chunked',\n",
       "   'connection': 'keep-alive',\n",
       "   'x-amzn-requestid': '07c7e6fc-2678-4c20-93ab-f571cecfa176',\n",
       "   'baggage': 'Self=1-68d5bcda-54a230ac60037d1a1f369c48,session.id=c7a08819-24e0-4ba0-af72-b344c0fcd41e',\n",
       "   'x-amzn-bedrock-agentcore-runtime-session-id': 'c7a08819-24e0-4ba0-af72-b344c0fcd41e',\n",
       "   'x-amzn-trace-id': 'Root=1-68d5bcda-5de59ba05d3abe845fb42a67;Self=1-68d5bcda-54a230ac60037d1a1f369c48'},\n",
       "  'RetryAttempts': 0},\n",
       " 'runtimeSessionId': 'c7a08819-24e0-4ba0-af72-b344c0fcd41e',\n",
       " 'traceId': 'Root=1-68d5bcda-5de59ba05d3abe845fb42a67;Self=1-68d5bcda-54a230ac60037d1a1f369c48',\n",
       " 'baggage': 'Self=1-68d5bcda-54a230ac60037d1a1f369c48,session.id=c7a08819-24e0-4ba0-af72-b344c0fcd41e',\n",
       " 'contentType': 'application/json',\n",
       " 'statusCode': 200,\n",
       " 'response': ['\"Based on the search results, here\\'s a comprehensive overview of EKS (Elastic Kubernetes Service):\\\\n\\\\n1. Definition:\\\\n- EKS is a managed Kubernetes service provided by Amazon Web Services (AWS)\\\\n- It\\'s a containers-as-a-service (CaaS) platform that simplifies running Kubernetes clusters\\\\n\\\\n2. Key Features:\\\\n- Managed Kubernetes control plane\\\\n- Eliminates the need to install and operate your own Kubernetes control plane\\\\n- Certified Kubernetes conformant service\\\\n- Allows easy creation, management, and operation of Kubernetes clusters on AWS\\\\n\\\\n3. Benefits:\\\\n- Simplifies Kubernetes cluster management\\\\n- Reduces operational complexity\\\\n- Provides seamless integration with other AWS services\\\\n- Supports running Kubernetes without managing the control plane or worker nodes\\\\n- Widely adopted - AWS is the platform of choice for most companies running Kubernetes\\\\n\\\\n4. Functionality:\\\\n- Can create and manage Kubernetes clusters through AWS console\\\\n- Allows updating, deleting, and adding node groups and configuratio',\n",
       "  'ns\\\\n- Supports integration with Elastic Container Registry (ECR)\\\\n\\\\nEKS is particularly useful for organizations looking to leverage Kubernetes for container orchestration without the overhead of managing the underlying infrastructure. It provides a managed, scalable solution for deploying and managing containerized applications on AWS.\\\\n\\\\nWould you like me to elaborate on any specific aspect of EKS?\"']}"
      ]
     },
     "execution_count": 12,
     "metadata": {},
     "output_type": "execute_result"
    }
   ],
   "source": [
    "invoke_response = agentcore_runtime.invoke({\"prompt\": \"Hi, what can you tell me about EKS\"})\n",
    "invoke_response"
   ]
  },
  {
   "cell_type": "markdown",
   "id": "07efe272",
   "metadata": {},
   "source": [
    "## Congrats!\n",
    "\n",
    "Congrats, you've deployed and invoked you agent hosted on AgentCore Runtime. As optional step, you can delete the prerequisite infrastructure created"
   ]
  }
 ],
 "metadata": {
  "kernelspec": {
   "display_name": ".venv",
   "language": "python",
   "name": "python3"
  },
  "language_info": {
   "codemirror_mode": {
    "name": "ipython",
    "version": 3
   },
   "file_extension": ".py",
   "mimetype": "text/x-python",
   "name": "python",
   "nbconvert_exporter": "python",
   "pygments_lexer": "ipython3",
   "version": "3.13.7"
  }
 },
 "nbformat": 4,
 "nbformat_minor": 5
}
