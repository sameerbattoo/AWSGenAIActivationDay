{
 "cells": [
  {
   "cell_type": "markdown",
   "metadata": {
    "collapsed": false,
    "jupyter": {
     "outputs_hidden": false
    },
    "pycharm": {
     "name": "#%% md\n"
    }
   },
   "source": [
    "# Use Model Context Protocol (MCP) as tools with Strands Agent\n",
    "\n",
    "## Overview\n",
    "The [Model Context Protocol (MCP)](https://modelcontextprotocol.io/introduction) is an open protocol that standardizes how applications provide context to Large Language Models (LLMs). Strands AI SDK integrates with MCP to extend agent capabilities through external tools and services.\n",
    "\n",
    "MCP enables communication between agents and MCP servers that provide additional tools. The Strands Agent SDK includes built-in support for connecting to MCP servers and using their tools.\n",
    "\n",
    "In this example we will show you how to use MCP tools on your Strands Agent. We will use the [AWS Documentation MCP server](https://awslabs.github.io/mcp/servers/aws-documentation-mcp-server/) which provides tools to access AWS documentation, search for content, and get recommendations. This MCP server has 3 main features:\n",
    "\n",
    "- **Read Documentation**: Fetch and convert AWS documentation pages to markdown format\n",
    "- **Search Documentation**: Search AWS documentation using the official search API\n",
    "- **Recommendations**: Get content recommendations for AWS documentation pages\n",
    "\n",
    "\n",
    "\n",
    "## Agent Details\n",
    "<div style=\"float: left; margin-right: 20px;\">\n",
    "    \n",
    "|Feature             |Description                                        |\n",
    "|--------------------|---------------------------------------------------|\n",
    "|Feature used        |MCP Tools                                          |\n",
    "|Agent Structure     |Single agent architecture                          |\n",
    "\n",
    "</div>"
   ]
  },
  {
   "cell_type": "markdown",
   "metadata": {},
   "source": [
    "## Architecture\n",
    "\n",
    "<div style=\"text-align:center\">\n",
    "    <img src=\"images/architecture.png\" width=\"65%\" />\n",
    "</div>\n",
    "\n",
    "## Key Features\n",
    "* **Single agent architecture**: this example creates a single agent that interacts with MCP tools\n",
    "* **MCP tools**: Integration of MCP tools with your agent"
   ]
  },
  {
   "cell_type": "markdown",
   "metadata": {},
   "source": [
    "## Setup and prerequisites\n",
    "\n",
    "### Prerequisites\n",
    "* Python 3.10+\n",
    "* AWS account\n",
    "* Anthropic Claude 3.7 enabled on Amazon Bedrock\n",
    "\n",
    "Let's now install the requirement packages for our Strands Agent agent"
   ]
  },
  {
   "cell_type": "code",
   "execution_count": 1,
   "metadata": {},
   "outputs": [
    {
     "name": "stdout",
     "output_type": "stream",
     "text": [
      "Collecting uv (from -r requirements.txt (line 1))\n",
      "  Downloading uv-0.8.17-py3-none-macosx_11_0_arm64.whl.metadata (11 kB)\n",
      "Requirement already satisfied: strands-agents in /Users/sbattoo/Src/AIActivationDay/samples/.venv/lib/python3.13/site-packages (from -r requirements.txt (line 2)) (1.8.0)\n",
      "Requirement already satisfied: strands-agents-tools in /Users/sbattoo/Src/AIActivationDay/samples/.venv/lib/python3.13/site-packages (from -r requirements.txt (line 3)) (0.2.7)\n",
      "Requirement already satisfied: mcp in /Users/sbattoo/Src/AIActivationDay/samples/.venv/lib/python3.13/site-packages (from -r requirements.txt (line 4)) (1.14.0)\n",
      "Requirement already satisfied: boto3<2.0.0,>=1.26.0 in /Users/sbattoo/Src/AIActivationDay/samples/.venv/lib/python3.13/site-packages (from strands-agents->-r requirements.txt (line 2)) (1.40.32)\n",
      "Requirement already satisfied: botocore<2.0.0,>=1.29.0 in /Users/sbattoo/Src/AIActivationDay/samples/.venv/lib/python3.13/site-packages (from strands-agents->-r requirements.txt (line 2)) (1.40.32)\n",
      "Requirement already satisfied: docstring-parser<1.0,>=0.15 in /Users/sbattoo/Src/AIActivationDay/samples/.venv/lib/python3.13/site-packages (from strands-agents->-r requirements.txt (line 2)) (0.17.0)\n",
      "Requirement already satisfied: opentelemetry-api<2.0.0,>=1.30.0 in /Users/sbattoo/Src/AIActivationDay/samples/.venv/lib/python3.13/site-packages (from strands-agents->-r requirements.txt (line 2)) (1.37.0)\n",
      "Requirement already satisfied: opentelemetry-instrumentation-threading<1.00b0,>=0.51b0 in /Users/sbattoo/Src/AIActivationDay/samples/.venv/lib/python3.13/site-packages (from strands-agents->-r requirements.txt (line 2)) (0.58b0)\n",
      "Requirement already satisfied: opentelemetry-sdk<2.0.0,>=1.30.0 in /Users/sbattoo/Src/AIActivationDay/samples/.venv/lib/python3.13/site-packages (from strands-agents->-r requirements.txt (line 2)) (1.37.0)\n",
      "Requirement already satisfied: pydantic<3.0.0,>=2.4.0 in /Users/sbattoo/Src/AIActivationDay/samples/.venv/lib/python3.13/site-packages (from strands-agents->-r requirements.txt (line 2)) (2.11.9)\n",
      "Requirement already satisfied: typing-extensions<5.0.0,>=4.13.2 in /Users/sbattoo/Src/AIActivationDay/samples/.venv/lib/python3.13/site-packages (from strands-agents->-r requirements.txt (line 2)) (4.15.0)\n",
      "Requirement already satisfied: watchdog<7.0.0,>=6.0.0 in /Users/sbattoo/Src/AIActivationDay/samples/.venv/lib/python3.13/site-packages (from strands-agents->-r requirements.txt (line 2)) (6.0.0)\n",
      "Requirement already satisfied: anyio>=4.5 in /Users/sbattoo/Src/AIActivationDay/samples/.venv/lib/python3.13/site-packages (from mcp->-r requirements.txt (line 4)) (4.10.0)\n",
      "Requirement already satisfied: httpx-sse>=0.4 in /Users/sbattoo/Src/AIActivationDay/samples/.venv/lib/python3.13/site-packages (from mcp->-r requirements.txt (line 4)) (0.4.1)\n",
      "Requirement already satisfied: httpx>=0.27.1 in /Users/sbattoo/Src/AIActivationDay/samples/.venv/lib/python3.13/site-packages (from mcp->-r requirements.txt (line 4)) (0.28.1)\n",
      "Requirement already satisfied: jsonschema>=4.20.0 in /Users/sbattoo/Src/AIActivationDay/samples/.venv/lib/python3.13/site-packages (from mcp->-r requirements.txt (line 4)) (4.25.1)\n",
      "Requirement already satisfied: pydantic-settings>=2.5.2 in /Users/sbattoo/Src/AIActivationDay/samples/.venv/lib/python3.13/site-packages (from mcp->-r requirements.txt (line 4)) (2.10.1)\n",
      "Requirement already satisfied: python-multipart>=0.0.9 in /Users/sbattoo/Src/AIActivationDay/samples/.venv/lib/python3.13/site-packages (from mcp->-r requirements.txt (line 4)) (0.0.20)\n",
      "Requirement already satisfied: sse-starlette>=1.6.1 in /Users/sbattoo/Src/AIActivationDay/samples/.venv/lib/python3.13/site-packages (from mcp->-r requirements.txt (line 4)) (3.0.2)\n",
      "Requirement already satisfied: starlette>=0.27 in /Users/sbattoo/Src/AIActivationDay/samples/.venv/lib/python3.13/site-packages (from mcp->-r requirements.txt (line 4)) (0.48.0)\n",
      "Requirement already satisfied: uvicorn>=0.31.1 in /Users/sbattoo/Src/AIActivationDay/samples/.venv/lib/python3.13/site-packages (from mcp->-r requirements.txt (line 4)) (0.35.0)\n",
      "Requirement already satisfied: jmespath<2.0.0,>=0.7.1 in /Users/sbattoo/Src/AIActivationDay/samples/.venv/lib/python3.13/site-packages (from boto3<2.0.0,>=1.26.0->strands-agents->-r requirements.txt (line 2)) (1.0.1)\n",
      "Requirement already satisfied: s3transfer<0.15.0,>=0.14.0 in /Users/sbattoo/Src/AIActivationDay/samples/.venv/lib/python3.13/site-packages (from boto3<2.0.0,>=1.26.0->strands-agents->-r requirements.txt (line 2)) (0.14.0)\n",
      "Requirement already satisfied: python-dateutil<3.0.0,>=2.1 in /Users/sbattoo/Src/AIActivationDay/samples/.venv/lib/python3.13/site-packages (from botocore<2.0.0,>=1.29.0->strands-agents->-r requirements.txt (line 2)) (2.9.0.post0)\n",
      "Requirement already satisfied: urllib3!=2.2.0,<3,>=1.25.4 in /Users/sbattoo/Src/AIActivationDay/samples/.venv/lib/python3.13/site-packages (from botocore<2.0.0,>=1.29.0->strands-agents->-r requirements.txt (line 2)) (2.5.0)\n",
      "Requirement already satisfied: importlib-metadata<8.8.0,>=6.0 in /Users/sbattoo/Src/AIActivationDay/samples/.venv/lib/python3.13/site-packages (from opentelemetry-api<2.0.0,>=1.30.0->strands-agents->-r requirements.txt (line 2)) (8.7.0)\n",
      "Requirement already satisfied: zipp>=3.20 in /Users/sbattoo/Src/AIActivationDay/samples/.venv/lib/python3.13/site-packages (from importlib-metadata<8.8.0,>=6.0->opentelemetry-api<2.0.0,>=1.30.0->strands-agents->-r requirements.txt (line 2)) (3.23.0)\n",
      "Requirement already satisfied: opentelemetry-instrumentation==0.58b0 in /Users/sbattoo/Src/AIActivationDay/samples/.venv/lib/python3.13/site-packages (from opentelemetry-instrumentation-threading<1.00b0,>=0.51b0->strands-agents->-r requirements.txt (line 2)) (0.58b0)\n",
      "Requirement already satisfied: wrapt<2.0.0,>=1.0.0 in /Users/sbattoo/Src/AIActivationDay/samples/.venv/lib/python3.13/site-packages (from opentelemetry-instrumentation-threading<1.00b0,>=0.51b0->strands-agents->-r requirements.txt (line 2)) (1.17.3)\n",
      "Requirement already satisfied: opentelemetry-semantic-conventions==0.58b0 in /Users/sbattoo/Src/AIActivationDay/samples/.venv/lib/python3.13/site-packages (from opentelemetry-instrumentation==0.58b0->opentelemetry-instrumentation-threading<1.00b0,>=0.51b0->strands-agents->-r requirements.txt (line 2)) (0.58b0)\n",
      "Requirement already satisfied: packaging>=18.0 in /Users/sbattoo/Src/AIActivationDay/samples/.venv/lib/python3.13/site-packages (from opentelemetry-instrumentation==0.58b0->opentelemetry-instrumentation-threading<1.00b0,>=0.51b0->strands-agents->-r requirements.txt (line 2)) (25.0)\n",
      "Requirement already satisfied: annotated-types>=0.6.0 in /Users/sbattoo/Src/AIActivationDay/samples/.venv/lib/python3.13/site-packages (from pydantic<3.0.0,>=2.4.0->strands-agents->-r requirements.txt (line 2)) (0.7.0)\n",
      "Requirement already satisfied: pydantic-core==2.33.2 in /Users/sbattoo/Src/AIActivationDay/samples/.venv/lib/python3.13/site-packages (from pydantic<3.0.0,>=2.4.0->strands-agents->-r requirements.txt (line 2)) (2.33.2)\n",
      "Requirement already satisfied: typing-inspection>=0.4.0 in /Users/sbattoo/Src/AIActivationDay/samples/.venv/lib/python3.13/site-packages (from pydantic<3.0.0,>=2.4.0->strands-agents->-r requirements.txt (line 2)) (0.4.1)\n",
      "Requirement already satisfied: six>=1.5 in /Users/sbattoo/Src/AIActivationDay/samples/.venv/lib/python3.13/site-packages (from python-dateutil<3.0.0,>=2.1->botocore<2.0.0,>=1.29.0->strands-agents->-r requirements.txt (line 2)) (1.17.0)\n",
      "Requirement already satisfied: aiohttp<4.0.0,>=3.8.0 in /Users/sbattoo/Src/AIActivationDay/samples/.venv/lib/python3.13/site-packages (from strands-agents-tools->-r requirements.txt (line 3)) (3.12.15)\n",
      "Requirement already satisfied: aws-requests-auth<0.5.0,>=0.4.3 in /Users/sbattoo/Src/AIActivationDay/samples/.venv/lib/python3.13/site-packages (from strands-agents-tools->-r requirements.txt (line 3)) (0.4.3)\n",
      "Requirement already satisfied: dill<0.5.0,>=0.4.0 in /Users/sbattoo/Src/AIActivationDay/samples/.venv/lib/python3.13/site-packages (from strands-agents-tools->-r requirements.txt (line 3)) (0.4.0)\n",
      "Requirement already satisfied: markdownify<2.0.0,>=1.0.0 in /Users/sbattoo/Src/AIActivationDay/samples/.venv/lib/python3.13/site-packages (from strands-agents-tools->-r requirements.txt (line 3)) (1.2.0)\n",
      "Requirement already satisfied: pillow<12.0.0,>=11.2.1 in /Users/sbattoo/Src/AIActivationDay/samples/.venv/lib/python3.13/site-packages (from strands-agents-tools->-r requirements.txt (line 3)) (11.3.0)\n",
      "Requirement already satisfied: prompt-toolkit<4.0.0,>=3.0.51 in /Users/sbattoo/Src/AIActivationDay/samples/.venv/lib/python3.13/site-packages (from strands-agents-tools->-r requirements.txt (line 3)) (3.0.52)\n",
      "Requirement already satisfied: pyjwt<3.0.0,>=2.10.1 in /Users/sbattoo/Src/AIActivationDay/samples/.venv/lib/python3.13/site-packages (from strands-agents-tools->-r requirements.txt (line 3)) (2.10.1)\n",
      "Requirement already satisfied: readabilipy<1.0.0,>=0.2.0 in /Users/sbattoo/Src/AIActivationDay/samples/.venv/lib/python3.13/site-packages (from strands-agents-tools->-r requirements.txt (line 3)) (0.3.0)\n",
      "Requirement already satisfied: requests<3.0.0,>=2.28.0 in /Users/sbattoo/Src/AIActivationDay/samples/.venv/lib/python3.13/site-packages (from strands-agents-tools->-r requirements.txt (line 3)) (2.32.5)\n",
      "Requirement already satisfied: rich<15.0.0,>=14.0.0 in /Users/sbattoo/Src/AIActivationDay/samples/.venv/lib/python3.13/site-packages (from strands-agents-tools->-r requirements.txt (line 3)) (14.1.0)\n",
      "Requirement already satisfied: slack-bolt<2.0.0,>=1.23.0 in /Users/sbattoo/Src/AIActivationDay/samples/.venv/lib/python3.13/site-packages (from strands-agents-tools->-r requirements.txt (line 3)) (1.25.0)\n",
      "Requirement already satisfied: sympy<2.0.0,>=1.12.0 in /Users/sbattoo/Src/AIActivationDay/samples/.venv/lib/python3.13/site-packages (from strands-agents-tools->-r requirements.txt (line 3)) (1.14.0)\n",
      "Requirement already satisfied: tenacity<10.0.0,>=9.1.2 in /Users/sbattoo/Src/AIActivationDay/samples/.venv/lib/python3.13/site-packages (from strands-agents-tools->-r requirements.txt (line 3)) (9.1.2)\n",
      "Requirement already satisfied: aiohappyeyeballs>=2.5.0 in /Users/sbattoo/Src/AIActivationDay/samples/.venv/lib/python3.13/site-packages (from aiohttp<4.0.0,>=3.8.0->strands-agents-tools->-r requirements.txt (line 3)) (2.6.1)\n",
      "Requirement already satisfied: aiosignal>=1.4.0 in /Users/sbattoo/Src/AIActivationDay/samples/.venv/lib/python3.13/site-packages (from aiohttp<4.0.0,>=3.8.0->strands-agents-tools->-r requirements.txt (line 3)) (1.4.0)\n",
      "Requirement already satisfied: attrs>=17.3.0 in /Users/sbattoo/Src/AIActivationDay/samples/.venv/lib/python3.13/site-packages (from aiohttp<4.0.0,>=3.8.0->strands-agents-tools->-r requirements.txt (line 3)) (25.3.0)\n",
      "Requirement already satisfied: frozenlist>=1.1.1 in /Users/sbattoo/Src/AIActivationDay/samples/.venv/lib/python3.13/site-packages (from aiohttp<4.0.0,>=3.8.0->strands-agents-tools->-r requirements.txt (line 3)) (1.7.0)\n",
      "Requirement already satisfied: multidict<7.0,>=4.5 in /Users/sbattoo/Src/AIActivationDay/samples/.venv/lib/python3.13/site-packages (from aiohttp<4.0.0,>=3.8.0->strands-agents-tools->-r requirements.txt (line 3)) (6.6.4)\n",
      "Requirement already satisfied: propcache>=0.2.0 in /Users/sbattoo/Src/AIActivationDay/samples/.venv/lib/python3.13/site-packages (from aiohttp<4.0.0,>=3.8.0->strands-agents-tools->-r requirements.txt (line 3)) (0.3.2)\n",
      "Requirement already satisfied: yarl<2.0,>=1.17.0 in /Users/sbattoo/Src/AIActivationDay/samples/.venv/lib/python3.13/site-packages (from aiohttp<4.0.0,>=3.8.0->strands-agents-tools->-r requirements.txt (line 3)) (1.20.1)\n",
      "Requirement already satisfied: beautifulsoup4<5,>=4.9 in /Users/sbattoo/Src/AIActivationDay/samples/.venv/lib/python3.13/site-packages (from markdownify<2.0.0,>=1.0.0->strands-agents-tools->-r requirements.txt (line 3)) (4.13.5)\n",
      "Requirement already satisfied: soupsieve>1.2 in /Users/sbattoo/Src/AIActivationDay/samples/.venv/lib/python3.13/site-packages (from beautifulsoup4<5,>=4.9->markdownify<2.0.0,>=1.0.0->strands-agents-tools->-r requirements.txt (line 3)) (2.8)\n",
      "Requirement already satisfied: wcwidth in /Users/sbattoo/Src/AIActivationDay/samples/.venv/lib/python3.13/site-packages (from prompt-toolkit<4.0.0,>=3.0.51->strands-agents-tools->-r requirements.txt (line 3)) (0.2.13)\n",
      "Requirement already satisfied: html5lib in /Users/sbattoo/Src/AIActivationDay/samples/.venv/lib/python3.13/site-packages (from readabilipy<1.0.0,>=0.2.0->strands-agents-tools->-r requirements.txt (line 3)) (1.1)\n",
      "Requirement already satisfied: lxml in /Users/sbattoo/Src/AIActivationDay/samples/.venv/lib/python3.13/site-packages (from readabilipy<1.0.0,>=0.2.0->strands-agents-tools->-r requirements.txt (line 3)) (6.0.1)\n",
      "Requirement already satisfied: regex in /Users/sbattoo/Src/AIActivationDay/samples/.venv/lib/python3.13/site-packages (from readabilipy<1.0.0,>=0.2.0->strands-agents-tools->-r requirements.txt (line 3)) (2025.9.1)\n",
      "Requirement already satisfied: charset_normalizer<4,>=2 in /Users/sbattoo/Src/AIActivationDay/samples/.venv/lib/python3.13/site-packages (from requests<3.0.0,>=2.28.0->strands-agents-tools->-r requirements.txt (line 3)) (3.4.3)\n",
      "Requirement already satisfied: idna<4,>=2.5 in /Users/sbattoo/Src/AIActivationDay/samples/.venv/lib/python3.13/site-packages (from requests<3.0.0,>=2.28.0->strands-agents-tools->-r requirements.txt (line 3)) (3.10)\n",
      "Requirement already satisfied: certifi>=2017.4.17 in /Users/sbattoo/Src/AIActivationDay/samples/.venv/lib/python3.13/site-packages (from requests<3.0.0,>=2.28.0->strands-agents-tools->-r requirements.txt (line 3)) (2025.8.3)\n",
      "Requirement already satisfied: markdown-it-py>=2.2.0 in /Users/sbattoo/Src/AIActivationDay/samples/.venv/lib/python3.13/site-packages (from rich<15.0.0,>=14.0.0->strands-agents-tools->-r requirements.txt (line 3)) (4.0.0)\n",
      "Requirement already satisfied: pygments<3.0.0,>=2.13.0 in /Users/sbattoo/Src/AIActivationDay/samples/.venv/lib/python3.13/site-packages (from rich<15.0.0,>=14.0.0->strands-agents-tools->-r requirements.txt (line 3)) (2.19.2)\n",
      "Requirement already satisfied: slack_sdk<4,>=3.35.0 in /Users/sbattoo/Src/AIActivationDay/samples/.venv/lib/python3.13/site-packages (from slack-bolt<2.0.0,>=1.23.0->strands-agents-tools->-r requirements.txt (line 3)) (3.36.0)\n",
      "Requirement already satisfied: mpmath<1.4,>=1.1.0 in /Users/sbattoo/Src/AIActivationDay/samples/.venv/lib/python3.13/site-packages (from sympy<2.0.0,>=1.12.0->strands-agents-tools->-r requirements.txt (line 3)) (1.3.0)\n",
      "Requirement already satisfied: sniffio>=1.1 in /Users/sbattoo/Src/AIActivationDay/samples/.venv/lib/python3.13/site-packages (from anyio>=4.5->mcp->-r requirements.txt (line 4)) (1.3.1)\n",
      "Requirement already satisfied: httpcore==1.* in /Users/sbattoo/Src/AIActivationDay/samples/.venv/lib/python3.13/site-packages (from httpx>=0.27.1->mcp->-r requirements.txt (line 4)) (1.0.9)\n",
      "Requirement already satisfied: h11>=0.16 in /Users/sbattoo/Src/AIActivationDay/samples/.venv/lib/python3.13/site-packages (from httpcore==1.*->httpx>=0.27.1->mcp->-r requirements.txt (line 4)) (0.16.0)\n",
      "Requirement already satisfied: jsonschema-specifications>=2023.03.6 in /Users/sbattoo/Src/AIActivationDay/samples/.venv/lib/python3.13/site-packages (from jsonschema>=4.20.0->mcp->-r requirements.txt (line 4)) (2025.9.1)\n",
      "Requirement already satisfied: referencing>=0.28.4 in /Users/sbattoo/Src/AIActivationDay/samples/.venv/lib/python3.13/site-packages (from jsonschema>=4.20.0->mcp->-r requirements.txt (line 4)) (0.36.2)\n",
      "Requirement already satisfied: rpds-py>=0.7.1 in /Users/sbattoo/Src/AIActivationDay/samples/.venv/lib/python3.13/site-packages (from jsonschema>=4.20.0->mcp->-r requirements.txt (line 4)) (0.27.1)\n",
      "Requirement already satisfied: mdurl~=0.1 in /Users/sbattoo/Src/AIActivationDay/samples/.venv/lib/python3.13/site-packages (from markdown-it-py>=2.2.0->rich<15.0.0,>=14.0.0->strands-agents-tools->-r requirements.txt (line 3)) (0.1.2)\n",
      "Requirement already satisfied: python-dotenv>=0.21.0 in /Users/sbattoo/Src/AIActivationDay/samples/.venv/lib/python3.13/site-packages (from pydantic-settings>=2.5.2->mcp->-r requirements.txt (line 4)) (1.1.1)\n",
      "Requirement already satisfied: click>=7.0 in /Users/sbattoo/Src/AIActivationDay/samples/.venv/lib/python3.13/site-packages (from uvicorn>=0.31.1->mcp->-r requirements.txt (line 4)) (8.2.1)\n",
      "Requirement already satisfied: webencodings in /Users/sbattoo/Src/AIActivationDay/samples/.venv/lib/python3.13/site-packages (from html5lib->readabilipy<1.0.0,>=0.2.0->strands-agents-tools->-r requirements.txt (line 3)) (0.5.1)\n",
      "Downloading uv-0.8.17-py3-none-macosx_11_0_arm64.whl (17.9 MB)\n",
      "\u001b[2K   \u001b[90m━━━━━━━━━━━━━━━━━━━━━━━━━━━━━━━━━━━━━━━━\u001b[0m \u001b[32m17.9/17.9 MB\u001b[0m \u001b[31m17.8 MB/s\u001b[0m  \u001b[33m0:00:01\u001b[0mm0:00:01\u001b[0m00:01\u001b[0m\n",
      "\u001b[?25hInstalling collected packages: uv\n",
      "Successfully installed uv-0.8.17\n"
     ]
    }
   ],
   "source": [
    "# installing pre-requisites\n",
    "!pip install -r requirements.txt"
   ]
  },
  {
   "cell_type": "markdown",
   "metadata": {},
   "source": [
    "### Importing dependency packages\n",
    "\n",
    "Now let's import the dependency packages"
   ]
  },
  {
   "cell_type": "code",
   "execution_count": 2,
   "metadata": {},
   "outputs": [],
   "source": [
    "import threading\n",
    "import time\n",
    "from datetime import timedelta\n",
    "\n",
    "from mcp import StdioServerParameters, stdio_client\n",
    "from mcp.client.streamable_http import streamablehttp_client\n",
    "from mcp.server import FastMCP\n",
    "from strands import Agent\n",
    "from strands.tools.mcp import MCPClient"
   ]
  },
  {
   "attachments": {},
   "cell_type": "markdown",
   "metadata": {},
   "source": [
    "### Connect to MCP server using stdio transport\n",
    "\n",
    "[Transports](https://modelcontextprotocol.io/specification/2025-03-26/basic/transports) in MCP provide the foundations for communication between clients and servers. It handles the underlying mechanics of how messages are sent and received. At the moment there are three standards transport implementations built-in in MCP:\n",
    "\n",
    "- **Standard Input/Output (stdio)**: enables communication through standard input and output streams. It is particularly useful for local integrations and command-line tools\n",
    "- **Streamable HTTP**: this replaces the HTTP+SSE transport from previous protocol version. In the Streamable HTTP transport, the server operates as an independent process that can handle multiple client connections. This transport uses HTTP POST and GET requests. Server can optionally make use of Server-Sent Events (SSE) to stream multiple server messages. This permits basic MCP servers, as well as more feature-rich servers supporting streaming and server-to-client notifications and requests.\n",
    "- **SSE**: legacy transport for HTTP-based MCP servers that use Server-Sent Events transport  \n",
    "\n",
    "Overall, you should use stdio for building command-line tools, implementing local integrations and working with shell scripts. You should use Streamable HTTP transports when you need a flexible and efficient way for AI agents to communicate with tools and services, especially when dealing with stateless communication or when minimizing resource usage is crucial.\n",
    "\n",
    "You can also use **custom transports** implementation for your specific needs. \n",
    "\n",
    "\n",
    "Let's now connect to the MCP server using stdio transport. First of all, we will use the class `MCPClient` to connect to the [AWS Documentation MCP Server](https://awslabs.github.io/mcp/servers/aws-documentation-mcp-server/). This server provides tools to access AWS documentation, search for content, and get recommendations."
   ]
  },
  {
   "cell_type": "code",
   "execution_count": 3,
   "metadata": {},
   "outputs": [],
   "source": [
    "# Connect to an MCP server using stdio transport\n",
    "stdio_mcp_client = MCPClient(\n",
    "    lambda: stdio_client(\n",
    "        StdioServerParameters(\n",
    "            command=\"uvx\", args=[\"awslabs.aws-documentation-mcp-server@latest\"]\n",
    "        )\n",
    "    )\n",
    ")"
   ]
  },
  {
   "cell_type": "markdown",
   "metadata": {},
   "source": [
    "#### Setup agent configuration and invoke it\n",
    "\n",
    "Next we will set our agent configuration using the tools from the `stdio_mcp_client` object we just created. To do so, we need to list the tools available in the MCP server. We can use the `list_tools_sync` method for it. \n",
    "\n",
    "After that, we will ask a question to our agent."
   ]
  },
  {
   "cell_type": "code",
   "execution_count": 4,
   "metadata": {},
   "outputs": [
    {
     "name": "stdout",
     "output_type": "stream",
     "text": [
      "I'll search for Amazon Bedrock pricing information to provide you with a concise overview.\n",
      "Tool #1: search_documentation\n",
      "\n",
      "Tool #2: read_documentation\n",
      "## Amazon Bedrock Pricing Model\n",
      "\n",
      "Amazon Bedrock uses a **pay-per-use pricing model** based on:\n",
      "\n",
      "**Primary Pricing Components:**\n",
      "- **Input tokens** - Text you send to the model\n",
      "- **Output tokens** - Text the model generates back\n",
      "- **Token volume** - You pay based on the number of tokens processed\n",
      "\n",
      "**Pricing Options:**\n",
      "1. **On-Demand** - Pay per token with no upfront costs\n",
      "2. **Provisioned Throughput** - Purchase dedicated capacity for consistent performance and potentially lower per-token costs\n",
      "\n",
      "**Additional Charges:**\n",
      "- **Guardrails** - Extra fees apply when using Amazon Bedrock Guardrails for content filtering\n",
      "- **Model fine-tuning** - Separate charges for custom model training (if applicable)\n",
      "\n",
      "Each foundation model has different per-token pricing, which varies by model provider and complexity. You only pay for what you use with no minimum commitments for on-demand usage."
     ]
    }
   ],
   "source": [
    "# Create an agent with MCP tools\n",
    "with stdio_mcp_client:\n",
    "    # Get the tools from the MCP server\n",
    "    tools = stdio_mcp_client.list_tools_sync()\n",
    "\n",
    "    # Create an agent with these tools\n",
    "    agent = Agent(\n",
    "        model=\"global.anthropic.claude-sonnet-4-20250514-v1:0\",\n",
    "        tools=tools)\n",
    "\n",
    "    response = agent(\"What is Amazon Bedrock pricing model. Be concise.\")"
   ]
  },
  {
   "cell_type": "markdown",
   "metadata": {},
   "source": [
    "### Connect to MCP server using Streamable HTTP\n",
    "\n",
    "Let's now connect to the MCP server using Streamable HTTP transport. First let's start a simple MCP server using Streamable HTTP transport. "
   ]
  },
  {
   "cell_type": "markdown",
   "metadata": {},
   "source": [
    "For this example we will create our own MCP server. The architecture will look as following\n",
    "\n",
    "<div style=\"text-align:center\">\n",
    "    <img src=\"images/architecture_2.png\" width=\"65%\" />\n",
    "</div>"
   ]
  },
  {
   "cell_type": "code",
   "execution_count": 5,
   "metadata": {},
   "outputs": [],
   "source": [
    "# Create an MCP server\n",
    "mcp = FastMCP(\"Calculator Server\")\n",
    "\n",
    "# Define a tool\n",
    "\n",
    "\n",
    "@mcp.tool(description=\"Calculator tool which performs calculations\")\n",
    "def calculator(x: int, y: int) -> int:\n",
    "    return x + y\n",
    "\n",
    "\n",
    "@mcp.tool(description=\"This is a long running tool\")\n",
    "def long_running_tool(name: str) -> str:\n",
    "    time.sleep(25)\n",
    "    return f\"Hello {name}\"\n",
    "\n",
    "\n",
    "def main():\n",
    "    mcp.run(transport=\"streamable-http\", mount_path=\"mcp\")"
   ]
  },
  {
   "cell_type": "markdown",
   "metadata": {},
   "source": [
    "Let's now start a thread with the `streamable-http` server"
   ]
  },
  {
   "cell_type": "code",
   "execution_count": null,
   "metadata": {},
   "outputs": [
    {
     "name": "stderr",
     "output_type": "stream",
     "text": [
      "INFO:     Started server process [76557]\n",
      "INFO:     Waiting for application startup.\n"
     ]
    },
    {
     "data": {
      "text/html": [
       "<pre style=\"white-space:pre;overflow-x:auto;line-height:normal;font-family:Menlo,'DejaVu Sans Mono',consolas,'Courier New',monospace\"><span style=\"color: #7fbfbf; text-decoration-color: #7fbfbf\">[09/16/25 14:21:30] </span><span style=\"color: #000080; text-decoration-color: #000080\">INFO    </span> StreamableHTTP session manager started                  <a href=\"file:///Users/sbattoo/Src/AIActivationDay/samples/.venv/lib/python3.13/site-packages/mcp/server/streamable_http_manager.py\" target=\"_blank\"><span style=\"color: #7f7f7f; text-decoration-color: #7f7f7f\">streamable_http_manager.py</span></a><span style=\"color: #7f7f7f; text-decoration-color: #7f7f7f\">:</span><a href=\"file:///Users/sbattoo/Src/AIActivationDay/samples/.venv/lib/python3.13/site-packages/mcp/server/streamable_http_manager.py#110\" target=\"_blank\"><span style=\"color: #7f7f7f; text-decoration-color: #7f7f7f\">110</span></a>\n",
       "</pre>\n"
      ],
      "text/plain": [
       "\u001b[2;36m[09/16/25 14:21:30]\u001b[0m\u001b[2;36m \u001b[0m\u001b[34mINFO    \u001b[0m StreamableHTTP session manager started                  \u001b]8;id=414461;file:///Users/sbattoo/Src/AIActivationDay/samples/.venv/lib/python3.13/site-packages/mcp/server/streamable_http_manager.py\u001b\\\u001b[2mstreamable_http_manager.py\u001b[0m\u001b]8;;\u001b\\\u001b[2m:\u001b[0m\u001b]8;id=243452;file:///Users/sbattoo/Src/AIActivationDay/samples/.venv/lib/python3.13/site-packages/mcp/server/streamable_http_manager.py#110\u001b\\\u001b[2m110\u001b[0m\u001b]8;;\u001b\\\n"
      ]
     },
     "metadata": {},
     "output_type": "display_data"
    },
    {
     "name": "stderr",
     "output_type": "stream",
     "text": [
      "INFO:     Application startup complete.\n",
      "INFO:     Uvicorn running on http://127.0.0.1:8000 (Press CTRL+C to quit)\n"
     ]
    },
    {
     "name": "stdout",
     "output_type": "stream",
     "text": [
      "INFO:     127.0.0.1:52843 - \"POST /mcp HTTP/1.1\" 200 OK\n",
      "INFO:     127.0.0.1:52846 - \"POST /mcp HTTP/1.1\" 202 Accepted\n",
      "INFO:     127.0.0.1:52847 - \"GET /mcp HTTP/1.1\" 200 OK\n",
      "INFO:     127.0.0.1:52850 - \"POST /mcp HTTP/1.1\" 200 OK\n",
      "INFO:     127.0.0.1:52862 - \"POST /mcp HTTP/1.1\" 200 OK\n",
      "INFO:     127.0.0.1:52869 - \"DELETE /mcp HTTP/1.1\" 200 OK\n",
      "INFO:     127.0.0.1:53344 - \"POST /mcp HTTP/1.1\" 200 OK\n",
      "INFO:     127.0.0.1:53347 - \"POST /mcp HTTP/1.1\" 202 Accepted\n",
      "INFO:     127.0.0.1:53348 - \"GET /mcp HTTP/1.1\" 200 OK\n",
      "INFO:     127.0.0.1:53350 - \"POST /mcp HTTP/1.1\" 200 OK\n",
      "INFO:     127.0.0.1:53352 - \"POST /mcp HTTP/1.1\" 200 OK\n",
      "INFO:     127.0.0.1:53354 - \"DELETE /mcp HTTP/1.1\" 200 OK\n"
     ]
    }
   ],
   "source": [
    "thread = threading.Thread(target=main)\n",
    "thread.start()"
   ]
  },
  {
   "cell_type": "markdown",
   "metadata": {},
   "source": [
    "#### Integrating Streamable HTTP client with Agent\n",
    "\n",
    "Now let's use `streamablehttp_client` integrate this server with a simple agent. "
   ]
  },
  {
   "cell_type": "code",
   "execution_count": 7,
   "metadata": {},
   "outputs": [],
   "source": [
    "def create_streamable_http_transport():\n",
    "    return streamablehttp_client(\"http://localhost:8000/mcp\")\n",
    "\n",
    "\n",
    "streamable_http_mcp_client = MCPClient(create_streamable_http_transport)"
   ]
  },
  {
   "cell_type": "markdown",
   "metadata": {},
   "source": [
    "#### Setup agent configuration and invoke it\n",
    "\n",
    "Next we will set our agent configuration using the tools from the `streamable_http_mcp_client` object we just created. To do so, we need to list the tools available in the MCP server. We can use the `list_tools_sync` method for it. \n",
    "\n",
    "After that, we will ask a question to our agent."
   ]
  },
  {
   "cell_type": "code",
   "execution_count": 8,
   "metadata": {},
   "outputs": [
    {
     "data": {
      "text/html": [
       "<pre style=\"white-space:pre;overflow-x:auto;line-height:normal;font-family:Menlo,'DejaVu Sans Mono',consolas,'Courier New',monospace\"><span style=\"color: #7fbfbf; text-decoration-color: #7fbfbf\">[09/16/25 14:22:00] </span><span style=\"color: #000080; text-decoration-color: #000080\">INFO    </span> Created new transport with session ID:                  <a href=\"file:///Users/sbattoo/Src/AIActivationDay/samples/.venv/lib/python3.13/site-packages/mcp/server/streamable_http_manager.py\" target=\"_blank\"><span style=\"color: #7f7f7f; text-decoration-color: #7f7f7f\">streamable_http_manager.py</span></a><span style=\"color: #7f7f7f; text-decoration-color: #7f7f7f\">:</span><a href=\"file:///Users/sbattoo/Src/AIActivationDay/samples/.venv/lib/python3.13/site-packages/mcp/server/streamable_http_manager.py#233\" target=\"_blank\"><span style=\"color: #7f7f7f; text-decoration-color: #7f7f7f\">233</span></a>\n",
       "<span style=\"color: #7fbfbf; text-decoration-color: #7fbfbf\">                    </span>         93dce49f14f14a15bc8fa0452252ed16                        <span style=\"color: #7f7f7f; text-decoration-color: #7f7f7f\">                              </span>\n",
       "</pre>\n"
      ],
      "text/plain": [
       "\u001b[2;36m[09/16/25 14:22:00]\u001b[0m\u001b[2;36m \u001b[0m\u001b[34mINFO    \u001b[0m Created new transport with session ID:                  \u001b]8;id=612743;file:///Users/sbattoo/Src/AIActivationDay/samples/.venv/lib/python3.13/site-packages/mcp/server/streamable_http_manager.py\u001b\\\u001b[2mstreamable_http_manager.py\u001b[0m\u001b]8;;\u001b\\\u001b[2m:\u001b[0m\u001b]8;id=7434;file:///Users/sbattoo/Src/AIActivationDay/samples/.venv/lib/python3.13/site-packages/mcp/server/streamable_http_manager.py#233\u001b\\\u001b[2m233\u001b[0m\u001b]8;;\u001b\\\n",
       "\u001b[2;36m                    \u001b[0m         93dce49f14f14a15bc8fa0452252ed16                        \u001b[2m                              \u001b[0m\n"
      ]
     },
     "metadata": {},
     "output_type": "display_data"
    },
    {
     "data": {
      "text/html": [
       "<pre style=\"white-space:pre;overflow-x:auto;line-height:normal;font-family:Menlo,'DejaVu Sans Mono',consolas,'Courier New',monospace\"><span style=\"color: #7fbfbf; text-decoration-color: #7fbfbf\">                    </span><span style=\"color: #000080; text-decoration-color: #000080\">INFO    </span> HTTP Request: <span style=\"color: #808000; text-decoration-color: #808000; font-weight: bold\">POST</span> <span style=\"color: #0000ff; text-decoration-color: #0000ff; text-decoration: underline\">http://localhost:8000/mcp</span> <span style=\"color: #008000; text-decoration-color: #008000\">\"HTTP/1.1 200 OK\"</span>         <a href=\"file:///Users/sbattoo/Src/AIActivationDay/samples/.venv/lib/python3.13/site-packages/httpx/_client.py\" target=\"_blank\"><span style=\"color: #7f7f7f; text-decoration-color: #7f7f7f\">_client.py</span></a><span style=\"color: #7f7f7f; text-decoration-color: #7f7f7f\">:</span><a href=\"file:///Users/sbattoo/Src/AIActivationDay/samples/.venv/lib/python3.13/site-packages/httpx/_client.py#1740\" target=\"_blank\"><span style=\"color: #7f7f7f; text-decoration-color: #7f7f7f\">1740</span></a>\n",
       "</pre>\n"
      ],
      "text/plain": [
       "\u001b[2;36m                   \u001b[0m\u001b[2;36m \u001b[0m\u001b[34mINFO    \u001b[0m HTTP Request: \u001b[1;33mPOST\u001b[0m \u001b[4;94mhttp://localhost:8000/mcp\u001b[0m \u001b[32m\"HTTP/1.1 200 OK\"\u001b[0m         \u001b]8;id=757653;file:///Users/sbattoo/Src/AIActivationDay/samples/.venv/lib/python3.13/site-packages/httpx/_client.py\u001b\\\u001b[2m_client.py\u001b[0m\u001b]8;;\u001b\\\u001b[2m:\u001b[0m\u001b]8;id=313973;file:///Users/sbattoo/Src/AIActivationDay/samples/.venv/lib/python3.13/site-packages/httpx/_client.py#1740\u001b\\\u001b[2m1740\u001b[0m\u001b]8;;\u001b\\\n"
      ]
     },
     "metadata": {},
     "output_type": "display_data"
    },
    {
     "data": {
      "text/html": [
       "<pre style=\"white-space:pre;overflow-x:auto;line-height:normal;font-family:Menlo,'DejaVu Sans Mono',consolas,'Courier New',monospace\"><span style=\"color: #7fbfbf; text-decoration-color: #7fbfbf\">                    </span><span style=\"color: #000080; text-decoration-color: #000080\">INFO    </span> Received session ID: 93dce49f14f14a15bc8fa0452252ed16           <a href=\"file:///Users/sbattoo/Src/AIActivationDay/samples/.venv/lib/python3.13/site-packages/mcp/client/streamable_http.py\" target=\"_blank\"><span style=\"color: #7f7f7f; text-decoration-color: #7f7f7f\">streamable_http.py</span></a><span style=\"color: #7f7f7f; text-decoration-color: #7f7f7f\">:</span><a href=\"file:///Users/sbattoo/Src/AIActivationDay/samples/.venv/lib/python3.13/site-packages/mcp/client/streamable_http.py#134\" target=\"_blank\"><span style=\"color: #7f7f7f; text-decoration-color: #7f7f7f\">134</span></a>\n",
       "</pre>\n"
      ],
      "text/plain": [
       "\u001b[2;36m                   \u001b[0m\u001b[2;36m \u001b[0m\u001b[34mINFO    \u001b[0m Received session ID: 93dce49f14f14a15bc8fa0452252ed16           \u001b]8;id=384012;file:///Users/sbattoo/Src/AIActivationDay/samples/.venv/lib/python3.13/site-packages/mcp/client/streamable_http.py\u001b\\\u001b[2mstreamable_http.py\u001b[0m\u001b]8;;\u001b\\\u001b[2m:\u001b[0m\u001b]8;id=620134;file:///Users/sbattoo/Src/AIActivationDay/samples/.venv/lib/python3.13/site-packages/mcp/client/streamable_http.py#134\u001b\\\u001b[2m134\u001b[0m\u001b]8;;\u001b\\\n"
      ]
     },
     "metadata": {},
     "output_type": "display_data"
    },
    {
     "data": {
      "text/html": [
       "<pre style=\"white-space:pre;overflow-x:auto;line-height:normal;font-family:Menlo,'DejaVu Sans Mono',consolas,'Courier New',monospace\"><span style=\"color: #7fbfbf; text-decoration-color: #7fbfbf\">                    </span><span style=\"color: #000080; text-decoration-color: #000080\">INFO    </span> Negotiated protocol version: <span style=\"color: #008080; text-decoration-color: #008080; font-weight: bold\">2025</span>-<span style=\"color: #008080; text-decoration-color: #008080; font-weight: bold\">06</span>-<span style=\"color: #008080; text-decoration-color: #008080; font-weight: bold\">18</span>                         <a href=\"file:///Users/sbattoo/Src/AIActivationDay/samples/.venv/lib/python3.13/site-packages/mcp/client/streamable_http.py\" target=\"_blank\"><span style=\"color: #7f7f7f; text-decoration-color: #7f7f7f\">streamable_http.py</span></a><span style=\"color: #7f7f7f; text-decoration-color: #7f7f7f\">:</span><a href=\"file:///Users/sbattoo/Src/AIActivationDay/samples/.venv/lib/python3.13/site-packages/mcp/client/streamable_http.py#146\" target=\"_blank\"><span style=\"color: #7f7f7f; text-decoration-color: #7f7f7f\">146</span></a>\n",
       "</pre>\n"
      ],
      "text/plain": [
       "\u001b[2;36m                   \u001b[0m\u001b[2;36m \u001b[0m\u001b[34mINFO    \u001b[0m Negotiated protocol version: \u001b[1;36m2025\u001b[0m-\u001b[1;36m06\u001b[0m-\u001b[1;36m18\u001b[0m                         \u001b]8;id=13656;file:///Users/sbattoo/Src/AIActivationDay/samples/.venv/lib/python3.13/site-packages/mcp/client/streamable_http.py\u001b\\\u001b[2mstreamable_http.py\u001b[0m\u001b]8;;\u001b\\\u001b[2m:\u001b[0m\u001b]8;id=379193;file:///Users/sbattoo/Src/AIActivationDay/samples/.venv/lib/python3.13/site-packages/mcp/client/streamable_http.py#146\u001b\\\u001b[2m146\u001b[0m\u001b]8;;\u001b\\\n"
      ]
     },
     "metadata": {},
     "output_type": "display_data"
    },
    {
     "data": {
      "text/html": [
       "<pre style=\"white-space:pre;overflow-x:auto;line-height:normal;font-family:Menlo,'DejaVu Sans Mono',consolas,'Courier New',monospace\"><span style=\"color: #7fbfbf; text-decoration-color: #7fbfbf\">                    </span><span style=\"color: #000080; text-decoration-color: #000080\">INFO    </span> HTTP Request: <span style=\"color: #808000; text-decoration-color: #808000; font-weight: bold\">POST</span> <span style=\"color: #0000ff; text-decoration-color: #0000ff; text-decoration: underline\">http://localhost:8000/mcp</span> <span style=\"color: #008000; text-decoration-color: #008000\">\"HTTP/1.1 202 Accepted\"</span>   <a href=\"file:///Users/sbattoo/Src/AIActivationDay/samples/.venv/lib/python3.13/site-packages/httpx/_client.py\" target=\"_blank\"><span style=\"color: #7f7f7f; text-decoration-color: #7f7f7f\">_client.py</span></a><span style=\"color: #7f7f7f; text-decoration-color: #7f7f7f\">:</span><a href=\"file:///Users/sbattoo/Src/AIActivationDay/samples/.venv/lib/python3.13/site-packages/httpx/_client.py#1740\" target=\"_blank\"><span style=\"color: #7f7f7f; text-decoration-color: #7f7f7f\">1740</span></a>\n",
       "</pre>\n"
      ],
      "text/plain": [
       "\u001b[2;36m                   \u001b[0m\u001b[2;36m \u001b[0m\u001b[34mINFO    \u001b[0m HTTP Request: \u001b[1;33mPOST\u001b[0m \u001b[4;94mhttp://localhost:8000/mcp\u001b[0m \u001b[32m\"HTTP/1.1 202 Accepted\"\u001b[0m   \u001b]8;id=360227;file:///Users/sbattoo/Src/AIActivationDay/samples/.venv/lib/python3.13/site-packages/httpx/_client.py\u001b\\\u001b[2m_client.py\u001b[0m\u001b]8;;\u001b\\\u001b[2m:\u001b[0m\u001b]8;id=894444;file:///Users/sbattoo/Src/AIActivationDay/samples/.venv/lib/python3.13/site-packages/httpx/_client.py#1740\u001b\\\u001b[2m1740\u001b[0m\u001b]8;;\u001b\\\n"
      ]
     },
     "metadata": {},
     "output_type": "display_data"
    },
    {
     "data": {
      "text/html": [
       "<pre style=\"white-space:pre;overflow-x:auto;line-height:normal;font-family:Menlo,'DejaVu Sans Mono',consolas,'Courier New',monospace\"><span style=\"color: #7fbfbf; text-decoration-color: #7fbfbf\">                    </span><span style=\"color: #000080; text-decoration-color: #000080\">INFO    </span> HTTP Request: <span style=\"color: #808000; text-decoration-color: #808000; font-weight: bold\">GET</span> <span style=\"color: #0000ff; text-decoration-color: #0000ff; text-decoration: underline\">http://localhost:8000/mcp</span> <span style=\"color: #008000; text-decoration-color: #008000\">\"HTTP/1.1 200 OK\"</span>          <a href=\"file:///Users/sbattoo/Src/AIActivationDay/samples/.venv/lib/python3.13/site-packages/httpx/_client.py\" target=\"_blank\"><span style=\"color: #7f7f7f; text-decoration-color: #7f7f7f\">_client.py</span></a><span style=\"color: #7f7f7f; text-decoration-color: #7f7f7f\">:</span><a href=\"file:///Users/sbattoo/Src/AIActivationDay/samples/.venv/lib/python3.13/site-packages/httpx/_client.py#1740\" target=\"_blank\"><span style=\"color: #7f7f7f; text-decoration-color: #7f7f7f\">1740</span></a>\n",
       "</pre>\n"
      ],
      "text/plain": [
       "\u001b[2;36m                   \u001b[0m\u001b[2;36m \u001b[0m\u001b[34mINFO    \u001b[0m HTTP Request: \u001b[1;33mGET\u001b[0m \u001b[4;94mhttp://localhost:8000/mcp\u001b[0m \u001b[32m\"HTTP/1.1 200 OK\"\u001b[0m          \u001b]8;id=133745;file:///Users/sbattoo/Src/AIActivationDay/samples/.venv/lib/python3.13/site-packages/httpx/_client.py\u001b\\\u001b[2m_client.py\u001b[0m\u001b]8;;\u001b\\\u001b[2m:\u001b[0m\u001b]8;id=875174;file:///Users/sbattoo/Src/AIActivationDay/samples/.venv/lib/python3.13/site-packages/httpx/_client.py#1740\u001b\\\u001b[2m1740\u001b[0m\u001b]8;;\u001b\\\n"
      ]
     },
     "metadata": {},
     "output_type": "display_data"
    },
    {
     "data": {
      "text/html": [
       "<pre style=\"white-space:pre;overflow-x:auto;line-height:normal;font-family:Menlo,'DejaVu Sans Mono',consolas,'Courier New',monospace\"><span style=\"color: #7fbfbf; text-decoration-color: #7fbfbf\">                    </span><span style=\"color: #000080; text-decoration-color: #000080\">INFO    </span> HTTP Request: <span style=\"color: #808000; text-decoration-color: #808000; font-weight: bold\">POST</span> <span style=\"color: #0000ff; text-decoration-color: #0000ff; text-decoration: underline\">http://localhost:8000/mcp</span> <span style=\"color: #008000; text-decoration-color: #008000\">\"HTTP/1.1 200 OK\"</span>         <a href=\"file:///Users/sbattoo/Src/AIActivationDay/samples/.venv/lib/python3.13/site-packages/httpx/_client.py\" target=\"_blank\"><span style=\"color: #7f7f7f; text-decoration-color: #7f7f7f\">_client.py</span></a><span style=\"color: #7f7f7f; text-decoration-color: #7f7f7f\">:</span><a href=\"file:///Users/sbattoo/Src/AIActivationDay/samples/.venv/lib/python3.13/site-packages/httpx/_client.py#1740\" target=\"_blank\"><span style=\"color: #7f7f7f; text-decoration-color: #7f7f7f\">1740</span></a>\n",
       "</pre>\n"
      ],
      "text/plain": [
       "\u001b[2;36m                   \u001b[0m\u001b[2;36m \u001b[0m\u001b[34mINFO    \u001b[0m HTTP Request: \u001b[1;33mPOST\u001b[0m \u001b[4;94mhttp://localhost:8000/mcp\u001b[0m \u001b[32m\"HTTP/1.1 200 OK\"\u001b[0m         \u001b]8;id=953943;file:///Users/sbattoo/Src/AIActivationDay/samples/.venv/lib/python3.13/site-packages/httpx/_client.py\u001b\\\u001b[2m_client.py\u001b[0m\u001b]8;;\u001b\\\u001b[2m:\u001b[0m\u001b]8;id=250066;file:///Users/sbattoo/Src/AIActivationDay/samples/.venv/lib/python3.13/site-packages/httpx/_client.py#1740\u001b\\\u001b[2m1740\u001b[0m\u001b]8;;\u001b\\\n"
      ]
     },
     "metadata": {},
     "output_type": "display_data"
    },
    {
     "data": {
      "text/html": [
       "<pre style=\"white-space:pre;overflow-x:auto;line-height:normal;font-family:Menlo,'DejaVu Sans Mono',consolas,'Courier New',monospace\"><span style=\"color: #7fbfbf; text-decoration-color: #7fbfbf\">                    </span><span style=\"color: #000080; text-decoration-color: #000080\">INFO    </span> Processing request of type ListToolsRequest                              <a href=\"file:///Users/sbattoo/Src/AIActivationDay/samples/.venv/lib/python3.13/site-packages/mcp/server/lowlevel/server.py\" target=\"_blank\"><span style=\"color: #7f7f7f; text-decoration-color: #7f7f7f\">server.py</span></a><span style=\"color: #7f7f7f; text-decoration-color: #7f7f7f\">:</span><a href=\"file:///Users/sbattoo/Src/AIActivationDay/samples/.venv/lib/python3.13/site-packages/mcp/server/lowlevel/server.py#623\" target=\"_blank\"><span style=\"color: #7f7f7f; text-decoration-color: #7f7f7f\">623</span></a>\n",
       "</pre>\n"
      ],
      "text/plain": [
       "\u001b[2;36m                   \u001b[0m\u001b[2;36m \u001b[0m\u001b[34mINFO    \u001b[0m Processing request of type ListToolsRequest                              \u001b]8;id=145317;file:///Users/sbattoo/Src/AIActivationDay/samples/.venv/lib/python3.13/site-packages/mcp/server/lowlevel/server.py\u001b\\\u001b[2mserver.py\u001b[0m\u001b]8;;\u001b\\\u001b[2m:\u001b[0m\u001b]8;id=294577;file:///Users/sbattoo/Src/AIActivationDay/samples/.venv/lib/python3.13/site-packages/mcp/server/lowlevel/server.py#623\u001b\\\u001b[2m623\u001b[0m\u001b]8;;\u001b\\\n"
      ]
     },
     "metadata": {},
     "output_type": "display_data"
    },
    {
     "data": {
      "text/html": [
       "<pre style=\"white-space:pre;overflow-x:auto;line-height:normal;font-family:Menlo,'DejaVu Sans Mono',consolas,'Courier New',monospace\"><span style=\"color: #7fbfbf; text-decoration-color: #7fbfbf\">                    </span><span style=\"color: #000080; text-decoration-color: #000080\">INFO    </span> Found credentials in shared credentials file: ~<span style=\"color: #800080; text-decoration-color: #800080\">/.aws/</span><span style=\"color: #ff00ff; text-decoration-color: #ff00ff\">credentials</span>   <a href=\"file:///Users/sbattoo/Src/AIActivationDay/samples/.venv/lib/python3.13/site-packages/botocore/credentials.py\" target=\"_blank\"><span style=\"color: #7f7f7f; text-decoration-color: #7f7f7f\">credentials.py</span></a><span style=\"color: #7f7f7f; text-decoration-color: #7f7f7f\">:</span><a href=\"file:///Users/sbattoo/Src/AIActivationDay/samples/.venv/lib/python3.13/site-packages/botocore/credentials.py#1359\" target=\"_blank\"><span style=\"color: #7f7f7f; text-decoration-color: #7f7f7f\">1359</span></a>\n",
       "</pre>\n"
      ],
      "text/plain": [
       "\u001b[2;36m                   \u001b[0m\u001b[2;36m \u001b[0m\u001b[34mINFO    \u001b[0m Found credentials in shared credentials file: ~\u001b[35m/.aws/\u001b[0m\u001b[95mcredentials\u001b[0m   \u001b]8;id=342951;file:///Users/sbattoo/Src/AIActivationDay/samples/.venv/lib/python3.13/site-packages/botocore/credentials.py\u001b\\\u001b[2mcredentials.py\u001b[0m\u001b]8;;\u001b\\\u001b[2m:\u001b[0m\u001b]8;id=178269;file:///Users/sbattoo/Src/AIActivationDay/samples/.venv/lib/python3.13/site-packages/botocore/credentials.py#1359\u001b\\\u001b[2m1359\u001b[0m\u001b]8;;\u001b\\\n"
      ]
     },
     "metadata": {},
     "output_type": "display_data"
    },
    {
     "name": "stdout",
     "output_type": "stream",
     "text": [
      "I'll calculate 2 + 2 for you using the calculator tool.\n",
      "Tool #1: calculator\n"
     ]
    },
    {
     "data": {
      "text/html": [
       "<pre style=\"white-space:pre;overflow-x:auto;line-height:normal;font-family:Menlo,'DejaVu Sans Mono',consolas,'Courier New',monospace\"><span style=\"color: #7fbfbf; text-decoration-color: #7fbfbf\">[09/16/25 14:22:02] </span><span style=\"color: #000080; text-decoration-color: #000080\">INFO    </span> HTTP Request: <span style=\"color: #808000; text-decoration-color: #808000; font-weight: bold\">POST</span> <span style=\"color: #0000ff; text-decoration-color: #0000ff; text-decoration: underline\">http://localhost:8000/mcp</span> <span style=\"color: #008000; text-decoration-color: #008000\">\"HTTP/1.1 200 OK\"</span>         <a href=\"file:///Users/sbattoo/Src/AIActivationDay/samples/.venv/lib/python3.13/site-packages/httpx/_client.py\" target=\"_blank\"><span style=\"color: #7f7f7f; text-decoration-color: #7f7f7f\">_client.py</span></a><span style=\"color: #7f7f7f; text-decoration-color: #7f7f7f\">:</span><a href=\"file:///Users/sbattoo/Src/AIActivationDay/samples/.venv/lib/python3.13/site-packages/httpx/_client.py#1740\" target=\"_blank\"><span style=\"color: #7f7f7f; text-decoration-color: #7f7f7f\">1740</span></a>\n",
       "</pre>\n"
      ],
      "text/plain": [
       "\u001b[2;36m[09/16/25 14:22:02]\u001b[0m\u001b[2;36m \u001b[0m\u001b[34mINFO    \u001b[0m HTTP Request: \u001b[1;33mPOST\u001b[0m \u001b[4;94mhttp://localhost:8000/mcp\u001b[0m \u001b[32m\"HTTP/1.1 200 OK\"\u001b[0m         \u001b]8;id=911321;file:///Users/sbattoo/Src/AIActivationDay/samples/.venv/lib/python3.13/site-packages/httpx/_client.py\u001b\\\u001b[2m_client.py\u001b[0m\u001b]8;;\u001b\\\u001b[2m:\u001b[0m\u001b]8;id=253463;file:///Users/sbattoo/Src/AIActivationDay/samples/.venv/lib/python3.13/site-packages/httpx/_client.py#1740\u001b\\\u001b[2m1740\u001b[0m\u001b]8;;\u001b\\\n"
      ]
     },
     "metadata": {},
     "output_type": "display_data"
    },
    {
     "data": {
      "text/html": [
       "<pre style=\"white-space:pre;overflow-x:auto;line-height:normal;font-family:Menlo,'DejaVu Sans Mono',consolas,'Courier New',monospace\"><span style=\"color: #7fbfbf; text-decoration-color: #7fbfbf\">                    </span><span style=\"color: #000080; text-decoration-color: #000080\">INFO    </span> Processing request of type CallToolRequest                               <a href=\"file:///Users/sbattoo/Src/AIActivationDay/samples/.venv/lib/python3.13/site-packages/mcp/server/lowlevel/server.py\" target=\"_blank\"><span style=\"color: #7f7f7f; text-decoration-color: #7f7f7f\">server.py</span></a><span style=\"color: #7f7f7f; text-decoration-color: #7f7f7f\">:</span><a href=\"file:///Users/sbattoo/Src/AIActivationDay/samples/.venv/lib/python3.13/site-packages/mcp/server/lowlevel/server.py#623\" target=\"_blank\"><span style=\"color: #7f7f7f; text-decoration-color: #7f7f7f\">623</span></a>\n",
       "</pre>\n"
      ],
      "text/plain": [
       "\u001b[2;36m                   \u001b[0m\u001b[2;36m \u001b[0m\u001b[34mINFO    \u001b[0m Processing request of type CallToolRequest                               \u001b]8;id=400394;file:///Users/sbattoo/Src/AIActivationDay/samples/.venv/lib/python3.13/site-packages/mcp/server/lowlevel/server.py\u001b\\\u001b[2mserver.py\u001b[0m\u001b]8;;\u001b\\\u001b[2m:\u001b[0m\u001b]8;id=895553;file:///Users/sbattoo/Src/AIActivationDay/samples/.venv/lib/python3.13/site-packages/mcp/server/lowlevel/server.py#623\u001b\\\u001b[2m623\u001b[0m\u001b]8;;\u001b\\\n"
      ]
     },
     "metadata": {},
     "output_type": "display_data"
    },
    {
     "name": "stdout",
     "output_type": "stream",
     "text": [
      "The answer is 4."
     ]
    },
    {
     "data": {
      "text/html": [
       "<pre style=\"white-space:pre;overflow-x:auto;line-height:normal;font-family:Menlo,'DejaVu Sans Mono',consolas,'Courier New',monospace\"><span style=\"color: #7fbfbf; text-decoration-color: #7fbfbf\">[09/16/25 14:22:04] </span><span style=\"color: #000080; text-decoration-color: #000080\">INFO    </span> Terminating session: 93dce49f14f14a15bc8fa0452252ed16           <a href=\"file:///Users/sbattoo/Src/AIActivationDay/samples/.venv/lib/python3.13/site-packages/mcp/server/streamable_http.py\" target=\"_blank\"><span style=\"color: #7f7f7f; text-decoration-color: #7f7f7f\">streamable_http.py</span></a><span style=\"color: #7f7f7f; text-decoration-color: #7f7f7f\">:</span><a href=\"file:///Users/sbattoo/Src/AIActivationDay/samples/.venv/lib/python3.13/site-packages/mcp/server/streamable_http.py#630\" target=\"_blank\"><span style=\"color: #7f7f7f; text-decoration-color: #7f7f7f\">630</span></a>\n",
       "</pre>\n"
      ],
      "text/plain": [
       "\u001b[2;36m[09/16/25 14:22:04]\u001b[0m\u001b[2;36m \u001b[0m\u001b[34mINFO    \u001b[0m Terminating session: 93dce49f14f14a15bc8fa0452252ed16           \u001b]8;id=785460;file:///Users/sbattoo/Src/AIActivationDay/samples/.venv/lib/python3.13/site-packages/mcp/server/streamable_http.py\u001b\\\u001b[2mstreamable_http.py\u001b[0m\u001b]8;;\u001b\\\u001b[2m:\u001b[0m\u001b]8;id=202677;file:///Users/sbattoo/Src/AIActivationDay/samples/.venv/lib/python3.13/site-packages/mcp/server/streamable_http.py#630\u001b\\\u001b[2m630\u001b[0m\u001b]8;;\u001b\\\n"
      ]
     },
     "metadata": {},
     "output_type": "display_data"
    },
    {
     "data": {
      "text/html": [
       "<pre style=\"white-space:pre;overflow-x:auto;line-height:normal;font-family:Menlo,'DejaVu Sans Mono',consolas,'Courier New',monospace\"><span style=\"color: #7fbfbf; text-decoration-color: #7fbfbf\">                    </span><span style=\"color: #000080; text-decoration-color: #000080\">INFO    </span> HTTP Request: <span style=\"color: #808000; text-decoration-color: #808000; font-weight: bold\">DELETE</span> <span style=\"color: #0000ff; text-decoration-color: #0000ff; text-decoration: underline\">http://localhost:8000/mcp</span> <span style=\"color: #008000; text-decoration-color: #008000\">\"HTTP/1.1 200 OK\"</span>       <a href=\"file:///Users/sbattoo/Src/AIActivationDay/samples/.venv/lib/python3.13/site-packages/httpx/_client.py\" target=\"_blank\"><span style=\"color: #7f7f7f; text-decoration-color: #7f7f7f\">_client.py</span></a><span style=\"color: #7f7f7f; text-decoration-color: #7f7f7f\">:</span><a href=\"file:///Users/sbattoo/Src/AIActivationDay/samples/.venv/lib/python3.13/site-packages/httpx/_client.py#1740\" target=\"_blank\"><span style=\"color: #7f7f7f; text-decoration-color: #7f7f7f\">1740</span></a>\n",
       "</pre>\n"
      ],
      "text/plain": [
       "\u001b[2;36m                   \u001b[0m\u001b[2;36m \u001b[0m\u001b[34mINFO    \u001b[0m HTTP Request: \u001b[1;33mDELETE\u001b[0m \u001b[4;94mhttp://localhost:8000/mcp\u001b[0m \u001b[32m\"HTTP/1.1 200 OK\"\u001b[0m       \u001b]8;id=891056;file:///Users/sbattoo/Src/AIActivationDay/samples/.venv/lib/python3.13/site-packages/httpx/_client.py\u001b\\\u001b[2m_client.py\u001b[0m\u001b]8;;\u001b\\\u001b[2m:\u001b[0m\u001b]8;id=609877;file:///Users/sbattoo/Src/AIActivationDay/samples/.venv/lib/python3.13/site-packages/httpx/_client.py#1740\u001b\\\u001b[2m1740\u001b[0m\u001b]8;;\u001b\\\n"
      ]
     },
     "metadata": {},
     "output_type": "display_data"
    }
   ],
   "source": [
    "with streamable_http_mcp_client:\n",
    "    tools = streamable_http_mcp_client.list_tools_sync()\n",
    "\n",
    "    agent = Agent(\n",
    "        model=\"global.anthropic.claude-sonnet-4-20250514-v1:0\",\n",
    "        tools=tools)\n",
    "\n",
    "    response = str(agent(\"What is 2 + 2?\"))"
   ]
  },
  {
   "cell_type": "markdown",
   "metadata": {},
   "source": [
    "### Direct Tool Invocation"
   ]
  },
  {
   "cell_type": "markdown",
   "metadata": {},
   "source": [
    "While tools are typically invoked by the agent based on user requests, you can also call MCP tools directly. This can be useful for workflow scenarios where you orchestrate multiple tools together."
   ]
  },
  {
   "cell_type": "code",
   "execution_count": 9,
   "metadata": {},
   "outputs": [
    {
     "data": {
      "text/html": [
       "<pre style=\"white-space:pre;overflow-x:auto;line-height:normal;font-family:Menlo,'DejaVu Sans Mono',consolas,'Courier New',monospace\"><span style=\"color: #7fbfbf; text-decoration-color: #7fbfbf\">[09/16/25 14:23:59] </span><span style=\"color: #000080; text-decoration-color: #000080\">INFO    </span> Created new transport with session ID:                  <a href=\"file:///Users/sbattoo/Src/AIActivationDay/samples/.venv/lib/python3.13/site-packages/mcp/server/streamable_http_manager.py\" target=\"_blank\"><span style=\"color: #7f7f7f; text-decoration-color: #7f7f7f\">streamable_http_manager.py</span></a><span style=\"color: #7f7f7f; text-decoration-color: #7f7f7f\">:</span><a href=\"file:///Users/sbattoo/Src/AIActivationDay/samples/.venv/lib/python3.13/site-packages/mcp/server/streamable_http_manager.py#233\" target=\"_blank\"><span style=\"color: #7f7f7f; text-decoration-color: #7f7f7f\">233</span></a>\n",
       "<span style=\"color: #7fbfbf; text-decoration-color: #7fbfbf\">                    </span>         7e8a1c1874f24d72b2c6ba57ba9dc570                        <span style=\"color: #7f7f7f; text-decoration-color: #7f7f7f\">                              </span>\n",
       "</pre>\n"
      ],
      "text/plain": [
       "\u001b[2;36m[09/16/25 14:23:59]\u001b[0m\u001b[2;36m \u001b[0m\u001b[34mINFO    \u001b[0m Created new transport with session ID:                  \u001b]8;id=163983;file:///Users/sbattoo/Src/AIActivationDay/samples/.venv/lib/python3.13/site-packages/mcp/server/streamable_http_manager.py\u001b\\\u001b[2mstreamable_http_manager.py\u001b[0m\u001b]8;;\u001b\\\u001b[2m:\u001b[0m\u001b]8;id=802157;file:///Users/sbattoo/Src/AIActivationDay/samples/.venv/lib/python3.13/site-packages/mcp/server/streamable_http_manager.py#233\u001b\\\u001b[2m233\u001b[0m\u001b]8;;\u001b\\\n",
       "\u001b[2;36m                    \u001b[0m         7e8a1c1874f24d72b2c6ba57ba9dc570                        \u001b[2m                              \u001b[0m\n"
      ]
     },
     "metadata": {},
     "output_type": "display_data"
    },
    {
     "data": {
      "text/html": [
       "<pre style=\"white-space:pre;overflow-x:auto;line-height:normal;font-family:Menlo,'DejaVu Sans Mono',consolas,'Courier New',monospace\"><span style=\"color: #7fbfbf; text-decoration-color: #7fbfbf\">                    </span><span style=\"color: #000080; text-decoration-color: #000080\">INFO    </span> HTTP Request: <span style=\"color: #808000; text-decoration-color: #808000; font-weight: bold\">POST</span> <span style=\"color: #0000ff; text-decoration-color: #0000ff; text-decoration: underline\">http://localhost:8000/mcp</span> <span style=\"color: #008000; text-decoration-color: #008000\">\"HTTP/1.1 200 OK\"</span>         <a href=\"file:///Users/sbattoo/Src/AIActivationDay/samples/.venv/lib/python3.13/site-packages/httpx/_client.py\" target=\"_blank\"><span style=\"color: #7f7f7f; text-decoration-color: #7f7f7f\">_client.py</span></a><span style=\"color: #7f7f7f; text-decoration-color: #7f7f7f\">:</span><a href=\"file:///Users/sbattoo/Src/AIActivationDay/samples/.venv/lib/python3.13/site-packages/httpx/_client.py#1740\" target=\"_blank\"><span style=\"color: #7f7f7f; text-decoration-color: #7f7f7f\">1740</span></a>\n",
       "</pre>\n"
      ],
      "text/plain": [
       "\u001b[2;36m                   \u001b[0m\u001b[2;36m \u001b[0m\u001b[34mINFO    \u001b[0m HTTP Request: \u001b[1;33mPOST\u001b[0m \u001b[4;94mhttp://localhost:8000/mcp\u001b[0m \u001b[32m\"HTTP/1.1 200 OK\"\u001b[0m         \u001b]8;id=958927;file:///Users/sbattoo/Src/AIActivationDay/samples/.venv/lib/python3.13/site-packages/httpx/_client.py\u001b\\\u001b[2m_client.py\u001b[0m\u001b]8;;\u001b\\\u001b[2m:\u001b[0m\u001b]8;id=317574;file:///Users/sbattoo/Src/AIActivationDay/samples/.venv/lib/python3.13/site-packages/httpx/_client.py#1740\u001b\\\u001b[2m1740\u001b[0m\u001b]8;;\u001b\\\n"
      ]
     },
     "metadata": {},
     "output_type": "display_data"
    },
    {
     "data": {
      "text/html": [
       "<pre style=\"white-space:pre;overflow-x:auto;line-height:normal;font-family:Menlo,'DejaVu Sans Mono',consolas,'Courier New',monospace\"><span style=\"color: #7fbfbf; text-decoration-color: #7fbfbf\">                    </span><span style=\"color: #000080; text-decoration-color: #000080\">INFO    </span> Received session ID: 7e8a1c1874f24d72b2c6ba57ba9dc570           <a href=\"file:///Users/sbattoo/Src/AIActivationDay/samples/.venv/lib/python3.13/site-packages/mcp/client/streamable_http.py\" target=\"_blank\"><span style=\"color: #7f7f7f; text-decoration-color: #7f7f7f\">streamable_http.py</span></a><span style=\"color: #7f7f7f; text-decoration-color: #7f7f7f\">:</span><a href=\"file:///Users/sbattoo/Src/AIActivationDay/samples/.venv/lib/python3.13/site-packages/mcp/client/streamable_http.py#134\" target=\"_blank\"><span style=\"color: #7f7f7f; text-decoration-color: #7f7f7f\">134</span></a>\n",
       "</pre>\n"
      ],
      "text/plain": [
       "\u001b[2;36m                   \u001b[0m\u001b[2;36m \u001b[0m\u001b[34mINFO    \u001b[0m Received session ID: 7e8a1c1874f24d72b2c6ba57ba9dc570           \u001b]8;id=779038;file:///Users/sbattoo/Src/AIActivationDay/samples/.venv/lib/python3.13/site-packages/mcp/client/streamable_http.py\u001b\\\u001b[2mstreamable_http.py\u001b[0m\u001b]8;;\u001b\\\u001b[2m:\u001b[0m\u001b]8;id=955734;file:///Users/sbattoo/Src/AIActivationDay/samples/.venv/lib/python3.13/site-packages/mcp/client/streamable_http.py#134\u001b\\\u001b[2m134\u001b[0m\u001b]8;;\u001b\\\n"
      ]
     },
     "metadata": {},
     "output_type": "display_data"
    },
    {
     "data": {
      "text/html": [
       "<pre style=\"white-space:pre;overflow-x:auto;line-height:normal;font-family:Menlo,'DejaVu Sans Mono',consolas,'Courier New',monospace\"><span style=\"color: #7fbfbf; text-decoration-color: #7fbfbf\">                    </span><span style=\"color: #000080; text-decoration-color: #000080\">INFO    </span> Negotiated protocol version: <span style=\"color: #008080; text-decoration-color: #008080; font-weight: bold\">2025</span>-<span style=\"color: #008080; text-decoration-color: #008080; font-weight: bold\">06</span>-<span style=\"color: #008080; text-decoration-color: #008080; font-weight: bold\">18</span>                         <a href=\"file:///Users/sbattoo/Src/AIActivationDay/samples/.venv/lib/python3.13/site-packages/mcp/client/streamable_http.py\" target=\"_blank\"><span style=\"color: #7f7f7f; text-decoration-color: #7f7f7f\">streamable_http.py</span></a><span style=\"color: #7f7f7f; text-decoration-color: #7f7f7f\">:</span><a href=\"file:///Users/sbattoo/Src/AIActivationDay/samples/.venv/lib/python3.13/site-packages/mcp/client/streamable_http.py#146\" target=\"_blank\"><span style=\"color: #7f7f7f; text-decoration-color: #7f7f7f\">146</span></a>\n",
       "</pre>\n"
      ],
      "text/plain": [
       "\u001b[2;36m                   \u001b[0m\u001b[2;36m \u001b[0m\u001b[34mINFO    \u001b[0m Negotiated protocol version: \u001b[1;36m2025\u001b[0m-\u001b[1;36m06\u001b[0m-\u001b[1;36m18\u001b[0m                         \u001b]8;id=177856;file:///Users/sbattoo/Src/AIActivationDay/samples/.venv/lib/python3.13/site-packages/mcp/client/streamable_http.py\u001b\\\u001b[2mstreamable_http.py\u001b[0m\u001b]8;;\u001b\\\u001b[2m:\u001b[0m\u001b]8;id=172428;file:///Users/sbattoo/Src/AIActivationDay/samples/.venv/lib/python3.13/site-packages/mcp/client/streamable_http.py#146\u001b\\\u001b[2m146\u001b[0m\u001b]8;;\u001b\\\n"
      ]
     },
     "metadata": {},
     "output_type": "display_data"
    },
    {
     "data": {
      "text/html": [
       "<pre style=\"white-space:pre;overflow-x:auto;line-height:normal;font-family:Menlo,'DejaVu Sans Mono',consolas,'Courier New',monospace\"><span style=\"color: #7fbfbf; text-decoration-color: #7fbfbf\">                    </span><span style=\"color: #000080; text-decoration-color: #000080\">INFO    </span> HTTP Request: <span style=\"color: #808000; text-decoration-color: #808000; font-weight: bold\">POST</span> <span style=\"color: #0000ff; text-decoration-color: #0000ff; text-decoration: underline\">http://localhost:8000/mcp</span> <span style=\"color: #008000; text-decoration-color: #008000\">\"HTTP/1.1 202 Accepted\"</span>   <a href=\"file:///Users/sbattoo/Src/AIActivationDay/samples/.venv/lib/python3.13/site-packages/httpx/_client.py\" target=\"_blank\"><span style=\"color: #7f7f7f; text-decoration-color: #7f7f7f\">_client.py</span></a><span style=\"color: #7f7f7f; text-decoration-color: #7f7f7f\">:</span><a href=\"file:///Users/sbattoo/Src/AIActivationDay/samples/.venv/lib/python3.13/site-packages/httpx/_client.py#1740\" target=\"_blank\"><span style=\"color: #7f7f7f; text-decoration-color: #7f7f7f\">1740</span></a>\n",
       "</pre>\n"
      ],
      "text/plain": [
       "\u001b[2;36m                   \u001b[0m\u001b[2;36m \u001b[0m\u001b[34mINFO    \u001b[0m HTTP Request: \u001b[1;33mPOST\u001b[0m \u001b[4;94mhttp://localhost:8000/mcp\u001b[0m \u001b[32m\"HTTP/1.1 202 Accepted\"\u001b[0m   \u001b]8;id=724839;file:///Users/sbattoo/Src/AIActivationDay/samples/.venv/lib/python3.13/site-packages/httpx/_client.py\u001b\\\u001b[2m_client.py\u001b[0m\u001b]8;;\u001b\\\u001b[2m:\u001b[0m\u001b]8;id=38894;file:///Users/sbattoo/Src/AIActivationDay/samples/.venv/lib/python3.13/site-packages/httpx/_client.py#1740\u001b\\\u001b[2m1740\u001b[0m\u001b]8;;\u001b\\\n"
      ]
     },
     "metadata": {},
     "output_type": "display_data"
    },
    {
     "data": {
      "text/html": [
       "<pre style=\"white-space:pre;overflow-x:auto;line-height:normal;font-family:Menlo,'DejaVu Sans Mono',consolas,'Courier New',monospace\"><span style=\"color: #7fbfbf; text-decoration-color: #7fbfbf\">                    </span><span style=\"color: #000080; text-decoration-color: #000080\">INFO    </span> HTTP Request: <span style=\"color: #808000; text-decoration-color: #808000; font-weight: bold\">GET</span> <span style=\"color: #0000ff; text-decoration-color: #0000ff; text-decoration: underline\">http://localhost:8000/mcp</span> <span style=\"color: #008000; text-decoration-color: #008000\">\"HTTP/1.1 200 OK\"</span>          <a href=\"file:///Users/sbattoo/Src/AIActivationDay/samples/.venv/lib/python3.13/site-packages/httpx/_client.py\" target=\"_blank\"><span style=\"color: #7f7f7f; text-decoration-color: #7f7f7f\">_client.py</span></a><span style=\"color: #7f7f7f; text-decoration-color: #7f7f7f\">:</span><a href=\"file:///Users/sbattoo/Src/AIActivationDay/samples/.venv/lib/python3.13/site-packages/httpx/_client.py#1740\" target=\"_blank\"><span style=\"color: #7f7f7f; text-decoration-color: #7f7f7f\">1740</span></a>\n",
       "</pre>\n"
      ],
      "text/plain": [
       "\u001b[2;36m                   \u001b[0m\u001b[2;36m \u001b[0m\u001b[34mINFO    \u001b[0m HTTP Request: \u001b[1;33mGET\u001b[0m \u001b[4;94mhttp://localhost:8000/mcp\u001b[0m \u001b[32m\"HTTP/1.1 200 OK\"\u001b[0m          \u001b]8;id=884282;file:///Users/sbattoo/Src/AIActivationDay/samples/.venv/lib/python3.13/site-packages/httpx/_client.py\u001b\\\u001b[2m_client.py\u001b[0m\u001b]8;;\u001b\\\u001b[2m:\u001b[0m\u001b]8;id=285851;file:///Users/sbattoo/Src/AIActivationDay/samples/.venv/lib/python3.13/site-packages/httpx/_client.py#1740\u001b\\\u001b[2m1740\u001b[0m\u001b]8;;\u001b\\\n"
      ]
     },
     "metadata": {},
     "output_type": "display_data"
    },
    {
     "data": {
      "text/html": [
       "<pre style=\"white-space:pre;overflow-x:auto;line-height:normal;font-family:Menlo,'DejaVu Sans Mono',consolas,'Courier New',monospace\"><span style=\"color: #7fbfbf; text-decoration-color: #7fbfbf\">                    </span><span style=\"color: #000080; text-decoration-color: #000080\">INFO    </span> HTTP Request: <span style=\"color: #808000; text-decoration-color: #808000; font-weight: bold\">POST</span> <span style=\"color: #0000ff; text-decoration-color: #0000ff; text-decoration: underline\">http://localhost:8000/mcp</span> <span style=\"color: #008000; text-decoration-color: #008000\">\"HTTP/1.1 200 OK\"</span>         <a href=\"file:///Users/sbattoo/Src/AIActivationDay/samples/.venv/lib/python3.13/site-packages/httpx/_client.py\" target=\"_blank\"><span style=\"color: #7f7f7f; text-decoration-color: #7f7f7f\">_client.py</span></a><span style=\"color: #7f7f7f; text-decoration-color: #7f7f7f\">:</span><a href=\"file:///Users/sbattoo/Src/AIActivationDay/samples/.venv/lib/python3.13/site-packages/httpx/_client.py#1740\" target=\"_blank\"><span style=\"color: #7f7f7f; text-decoration-color: #7f7f7f\">1740</span></a>\n",
       "</pre>\n"
      ],
      "text/plain": [
       "\u001b[2;36m                   \u001b[0m\u001b[2;36m \u001b[0m\u001b[34mINFO    \u001b[0m HTTP Request: \u001b[1;33mPOST\u001b[0m \u001b[4;94mhttp://localhost:8000/mcp\u001b[0m \u001b[32m\"HTTP/1.1 200 OK\"\u001b[0m         \u001b]8;id=940898;file:///Users/sbattoo/Src/AIActivationDay/samples/.venv/lib/python3.13/site-packages/httpx/_client.py\u001b\\\u001b[2m_client.py\u001b[0m\u001b]8;;\u001b\\\u001b[2m:\u001b[0m\u001b]8;id=354879;file:///Users/sbattoo/Src/AIActivationDay/samples/.venv/lib/python3.13/site-packages/httpx/_client.py#1740\u001b\\\u001b[2m1740\u001b[0m\u001b]8;;\u001b\\\n"
      ]
     },
     "metadata": {},
     "output_type": "display_data"
    },
    {
     "data": {
      "text/html": [
       "<pre style=\"white-space:pre;overflow-x:auto;line-height:normal;font-family:Menlo,'DejaVu Sans Mono',consolas,'Courier New',monospace\"><span style=\"color: #7fbfbf; text-decoration-color: #7fbfbf\">                    </span><span style=\"color: #000080; text-decoration-color: #000080\">INFO    </span> Processing request of type CallToolRequest                               <a href=\"file:///Users/sbattoo/Src/AIActivationDay/samples/.venv/lib/python3.13/site-packages/mcp/server/lowlevel/server.py\" target=\"_blank\"><span style=\"color: #7f7f7f; text-decoration-color: #7f7f7f\">server.py</span></a><span style=\"color: #7f7f7f; text-decoration-color: #7f7f7f\">:</span><a href=\"file:///Users/sbattoo/Src/AIActivationDay/samples/.venv/lib/python3.13/site-packages/mcp/server/lowlevel/server.py#623\" target=\"_blank\"><span style=\"color: #7f7f7f; text-decoration-color: #7f7f7f\">623</span></a>\n",
       "</pre>\n"
      ],
      "text/plain": [
       "\u001b[2;36m                   \u001b[0m\u001b[2;36m \u001b[0m\u001b[34mINFO    \u001b[0m Processing request of type CallToolRequest                               \u001b]8;id=259760;file:///Users/sbattoo/Src/AIActivationDay/samples/.venv/lib/python3.13/site-packages/mcp/server/lowlevel/server.py\u001b\\\u001b[2mserver.py\u001b[0m\u001b]8;;\u001b\\\u001b[2m:\u001b[0m\u001b]8;id=891400;file:///Users/sbattoo/Src/AIActivationDay/samples/.venv/lib/python3.13/site-packages/mcp/server/lowlevel/server.py#623\u001b\\\u001b[2m623\u001b[0m\u001b]8;;\u001b\\\n"
      ]
     },
     "metadata": {},
     "output_type": "display_data"
    },
    {
     "data": {
      "text/html": [
       "<pre style=\"white-space:pre;overflow-x:auto;line-height:normal;font-family:Menlo,'DejaVu Sans Mono',consolas,'Courier New',monospace\"><span style=\"color: #7fbfbf; text-decoration-color: #7fbfbf\">                    </span><span style=\"color: #000080; text-decoration-color: #000080\">INFO    </span> HTTP Request: <span style=\"color: #808000; text-decoration-color: #808000; font-weight: bold\">POST</span> <span style=\"color: #0000ff; text-decoration-color: #0000ff; text-decoration: underline\">http://localhost:8000/mcp</span> <span style=\"color: #008000; text-decoration-color: #008000\">\"HTTP/1.1 200 OK\"</span>         <a href=\"file:///Users/sbattoo/Src/AIActivationDay/samples/.venv/lib/python3.13/site-packages/httpx/_client.py\" target=\"_blank\"><span style=\"color: #7f7f7f; text-decoration-color: #7f7f7f\">_client.py</span></a><span style=\"color: #7f7f7f; text-decoration-color: #7f7f7f\">:</span><a href=\"file:///Users/sbattoo/Src/AIActivationDay/samples/.venv/lib/python3.13/site-packages/httpx/_client.py#1740\" target=\"_blank\"><span style=\"color: #7f7f7f; text-decoration-color: #7f7f7f\">1740</span></a>\n",
       "</pre>\n"
      ],
      "text/plain": [
       "\u001b[2;36m                   \u001b[0m\u001b[2;36m \u001b[0m\u001b[34mINFO    \u001b[0m HTTP Request: \u001b[1;33mPOST\u001b[0m \u001b[4;94mhttp://localhost:8000/mcp\u001b[0m \u001b[32m\"HTTP/1.1 200 OK\"\u001b[0m         \u001b]8;id=973808;file:///Users/sbattoo/Src/AIActivationDay/samples/.venv/lib/python3.13/site-packages/httpx/_client.py\u001b\\\u001b[2m_client.py\u001b[0m\u001b]8;;\u001b\\\u001b[2m:\u001b[0m\u001b]8;id=346247;file:///Users/sbattoo/Src/AIActivationDay/samples/.venv/lib/python3.13/site-packages/httpx/_client.py#1740\u001b\\\u001b[2m1740\u001b[0m\u001b]8;;\u001b\\\n"
      ]
     },
     "metadata": {},
     "output_type": "display_data"
    },
    {
     "data": {
      "text/html": [
       "<pre style=\"white-space:pre;overflow-x:auto;line-height:normal;font-family:Menlo,'DejaVu Sans Mono',consolas,'Courier New',monospace\"><span style=\"color: #7fbfbf; text-decoration-color: #7fbfbf\">                    </span><span style=\"color: #000080; text-decoration-color: #000080\">INFO    </span> Processing request of type ListToolsRequest                              <a href=\"file:///Users/sbattoo/Src/AIActivationDay/samples/.venv/lib/python3.13/site-packages/mcp/server/lowlevel/server.py\" target=\"_blank\"><span style=\"color: #7f7f7f; text-decoration-color: #7f7f7f\">server.py</span></a><span style=\"color: #7f7f7f; text-decoration-color: #7f7f7f\">:</span><a href=\"file:///Users/sbattoo/Src/AIActivationDay/samples/.venv/lib/python3.13/site-packages/mcp/server/lowlevel/server.py#623\" target=\"_blank\"><span style=\"color: #7f7f7f; text-decoration-color: #7f7f7f\">623</span></a>\n",
       "</pre>\n"
      ],
      "text/plain": [
       "\u001b[2;36m                   \u001b[0m\u001b[2;36m \u001b[0m\u001b[34mINFO    \u001b[0m Processing request of type ListToolsRequest                              \u001b]8;id=535206;file:///Users/sbattoo/Src/AIActivationDay/samples/.venv/lib/python3.13/site-packages/mcp/server/lowlevel/server.py\u001b\\\u001b[2mserver.py\u001b[0m\u001b]8;;\u001b\\\u001b[2m:\u001b[0m\u001b]8;id=958592;file:///Users/sbattoo/Src/AIActivationDay/samples/.venv/lib/python3.13/site-packages/mcp/server/lowlevel/server.py#623\u001b\\\u001b[2m623\u001b[0m\u001b]8;;\u001b\\\n"
      ]
     },
     "metadata": {},
     "output_type": "display_data"
    },
    {
     "name": "stdout",
     "output_type": "stream",
     "text": [
      "Calculation result: 30\n"
     ]
    },
    {
     "data": {
      "text/html": [
       "<pre style=\"white-space:pre;overflow-x:auto;line-height:normal;font-family:Menlo,'DejaVu Sans Mono',consolas,'Courier New',monospace\"><span style=\"color: #7fbfbf; text-decoration-color: #7fbfbf\">                    </span><span style=\"color: #000080; text-decoration-color: #000080\">INFO    </span> Terminating session: 7e8a1c1874f24d72b2c6ba57ba9dc570           <a href=\"file:///Users/sbattoo/Src/AIActivationDay/samples/.venv/lib/python3.13/site-packages/mcp/server/streamable_http.py\" target=\"_blank\"><span style=\"color: #7f7f7f; text-decoration-color: #7f7f7f\">streamable_http.py</span></a><span style=\"color: #7f7f7f; text-decoration-color: #7f7f7f\">:</span><a href=\"file:///Users/sbattoo/Src/AIActivationDay/samples/.venv/lib/python3.13/site-packages/mcp/server/streamable_http.py#630\" target=\"_blank\"><span style=\"color: #7f7f7f; text-decoration-color: #7f7f7f\">630</span></a>\n",
       "</pre>\n"
      ],
      "text/plain": [
       "\u001b[2;36m                   \u001b[0m\u001b[2;36m \u001b[0m\u001b[34mINFO    \u001b[0m Terminating session: 7e8a1c1874f24d72b2c6ba57ba9dc570           \u001b]8;id=513105;file:///Users/sbattoo/Src/AIActivationDay/samples/.venv/lib/python3.13/site-packages/mcp/server/streamable_http.py\u001b\\\u001b[2mstreamable_http.py\u001b[0m\u001b]8;;\u001b\\\u001b[2m:\u001b[0m\u001b]8;id=183629;file:///Users/sbattoo/Src/AIActivationDay/samples/.venv/lib/python3.13/site-packages/mcp/server/streamable_http.py#630\u001b\\\u001b[2m630\u001b[0m\u001b]8;;\u001b\\\n"
      ]
     },
     "metadata": {},
     "output_type": "display_data"
    },
    {
     "data": {
      "text/html": [
       "<pre style=\"white-space:pre;overflow-x:auto;line-height:normal;font-family:Menlo,'DejaVu Sans Mono',consolas,'Courier New',monospace\"><span style=\"color: #7fbfbf; text-decoration-color: #7fbfbf\">                    </span><span style=\"color: #000080; text-decoration-color: #000080\">INFO    </span> HTTP Request: <span style=\"color: #808000; text-decoration-color: #808000; font-weight: bold\">DELETE</span> <span style=\"color: #0000ff; text-decoration-color: #0000ff; text-decoration: underline\">http://localhost:8000/mcp</span> <span style=\"color: #008000; text-decoration-color: #008000\">\"HTTP/1.1 200 OK\"</span>       <a href=\"file:///Users/sbattoo/Src/AIActivationDay/samples/.venv/lib/python3.13/site-packages/httpx/_client.py\" target=\"_blank\"><span style=\"color: #7f7f7f; text-decoration-color: #7f7f7f\">_client.py</span></a><span style=\"color: #7f7f7f; text-decoration-color: #7f7f7f\">:</span><a href=\"file:///Users/sbattoo/Src/AIActivationDay/samples/.venv/lib/python3.13/site-packages/httpx/_client.py#1740\" target=\"_blank\"><span style=\"color: #7f7f7f; text-decoration-color: #7f7f7f\">1740</span></a>\n",
       "</pre>\n"
      ],
      "text/plain": [
       "\u001b[2;36m                   \u001b[0m\u001b[2;36m \u001b[0m\u001b[34mINFO    \u001b[0m HTTP Request: \u001b[1;33mDELETE\u001b[0m \u001b[4;94mhttp://localhost:8000/mcp\u001b[0m \u001b[32m\"HTTP/1.1 200 OK\"\u001b[0m       \u001b]8;id=723048;file:///Users/sbattoo/Src/AIActivationDay/samples/.venv/lib/python3.13/site-packages/httpx/_client.py\u001b\\\u001b[2m_client.py\u001b[0m\u001b]8;;\u001b\\\u001b[2m:\u001b[0m\u001b]8;id=849458;file:///Users/sbattoo/Src/AIActivationDay/samples/.venv/lib/python3.13/site-packages/httpx/_client.py#1740\u001b\\\u001b[2m1740\u001b[0m\u001b]8;;\u001b\\\n"
      ]
     },
     "metadata": {},
     "output_type": "display_data"
    }
   ],
   "source": [
    "query = {\"x\": 10, \"y\": 20}\n",
    "\n",
    "with streamable_http_mcp_client:\n",
    "    # direct tool invocation\n",
    "    result = streamable_http_mcp_client.call_tool_sync(\n",
    "        tool_use_id=\"tool-123\", name=\"calculator\", arguments=query\n",
    "    )\n",
    "\n",
    "    # Process the result\n",
    "    print(f\"Calculation result: {result['content'][0]['text']}\")"
   ]
  },
  {
   "cell_type": "markdown",
   "metadata": {},
   "source": [
    "You can optionally also provide `read_timeout_seconds` while calling an MCP server tool to avoid it running for too long"
   ]
  },
  {
   "cell_type": "code",
   "execution_count": null,
   "metadata": {},
   "outputs": [],
   "source": [
    "with streamable_http_mcp_client:\n",
    "    try:\n",
    "        result = streamable_http_mcp_client.call_tool_sync(\n",
    "            tool_use_id=\"tool-123\",\n",
    "            name=\"long_running_tool\",\n",
    "            arguments={\"name\": \"Amazon\"},\n",
    "            read_timeout_seconds=timedelta(seconds=30),\n",
    "        )\n",
    "\n",
    "        if result[\"status\"] == \"error\":\n",
    "            print(f\"Tool execution failed: {result['content'][0]['text']}\")\n",
    "        else:\n",
    "            print(f\"Tool execution succeeded: {result['content'][0]['text']}\")\n",
    "    except Exception as e:\n",
    "        print(f\"Tool call timed out or failed: {str(e)}\")"
   ]
  },
  {
   "cell_type": "markdown",
   "metadata": {},
   "source": [
    "### Interacting with multiple MCP servers\n",
    "\n",
    "With Strands Agents you can also interact with multiple MCP servers using the same agent and configure tools setups such as the max number of tools that can be used in parallel (`max_parallel_tools`). Let's create a new agent to showcase this configuration:\n",
    "\n",
    "<div style=\"text-align:center\">\n",
    "    <img src=\"images/architecture_3.png\" width=\"85%\" />\n",
    "</div>\n",
    "\n",
    "In this agent, we will again use the AWS Documentation MCP server and we will also use the [AWS CDK MCP Server](https://awslabs.github.io/mcp/servers/cdk-mcp-server/) which helps with AWS Cloud Development Kit (CDK) best practices, infrastructure as code patterns and security compliance with CDK Nag.\n",
    "\n",
    "First let's connect to the two MCP servers using the stdio transport"
   ]
  },
  {
   "cell_type": "code",
   "execution_count": 10,
   "metadata": {},
   "outputs": [],
   "source": [
    "# Connect to an MCP server using stdio transport\n",
    "aws_docs_mcp_client = MCPClient(\n",
    "    lambda: stdio_client(\n",
    "        StdioServerParameters(\n",
    "            command=\"uvx\", args=[\"awslabs.aws-documentation-mcp-server@latest\"]\n",
    "        )\n",
    "    )\n",
    ")\n",
    "\n",
    "# Connect to an MCP server using stdio transport\n",
    "cdk_mcp_client = MCPClient(\n",
    "    lambda: stdio_client(\n",
    "        StdioServerParameters(command=\"uvx\", args=[\"awslabs.cdk-mcp-server@latest\"])\n",
    "    )\n",
    ")"
   ]
  },
  {
   "cell_type": "markdown",
   "metadata": {},
   "source": [
    "#### Create Agent with MCP servers\n",
    "\n",
    "Next we will create the agent with the tools from both MCP servers"
   ]
  },
  {
   "cell_type": "code",
   "execution_count": 11,
   "metadata": {},
   "outputs": [
    {
     "data": {
      "text/html": [
       "<pre style=\"white-space:pre;overflow-x:auto;line-height:normal;font-family:Menlo,'DejaVu Sans Mono',consolas,'Courier New',monospace\"><span style=\"color: #7fbfbf; text-decoration-color: #7fbfbf\">[09/16/25 14:26:16] </span><span style=\"color: #000080; text-decoration-color: #000080\">INFO    </span> Found credentials in shared credentials file: ~<span style=\"color: #800080; text-decoration-color: #800080\">/.aws/</span><span style=\"color: #ff00ff; text-decoration-color: #ff00ff\">credentials</span>   <a href=\"file:///Users/sbattoo/Src/AIActivationDay/samples/.venv/lib/python3.13/site-packages/botocore/credentials.py\" target=\"_blank\"><span style=\"color: #7f7f7f; text-decoration-color: #7f7f7f\">credentials.py</span></a><span style=\"color: #7f7f7f; text-decoration-color: #7f7f7f\">:</span><a href=\"file:///Users/sbattoo/Src/AIActivationDay/samples/.venv/lib/python3.13/site-packages/botocore/credentials.py#1359\" target=\"_blank\"><span style=\"color: #7f7f7f; text-decoration-color: #7f7f7f\">1359</span></a>\n",
       "</pre>\n"
      ],
      "text/plain": [
       "\u001b[2;36m[09/16/25 14:26:16]\u001b[0m\u001b[2;36m \u001b[0m\u001b[34mINFO    \u001b[0m Found credentials in shared credentials file: ~\u001b[35m/.aws/\u001b[0m\u001b[95mcredentials\u001b[0m   \u001b]8;id=461533;file:///Users/sbattoo/Src/AIActivationDay/samples/.venv/lib/python3.13/site-packages/botocore/credentials.py\u001b\\\u001b[2mcredentials.py\u001b[0m\u001b]8;;\u001b\\\u001b[2m:\u001b[0m\u001b]8;id=99735;file:///Users/sbattoo/Src/AIActivationDay/samples/.venv/lib/python3.13/site-packages/botocore/credentials.py#1359\u001b\\\u001b[2m1359\u001b[0m\u001b]8;;\u001b\\\n"
      ]
     },
     "metadata": {},
     "output_type": "display_data"
    },
    {
     "name": "stdout",
     "output_type": "stream",
     "text": [
      "I'll help you with both questions. Let me search for Amazon Bedrock pricing information and get CDK best practices guidance.\n",
      "Tool #1: search_documentation\n",
      "\n",
      "Tool #2: CDKGeneralGuidance\n",
      "Let me get the specific Bedrock pricing details from the documentation:\n",
      "Tool #3: read_documentation\n",
      "## Amazon Bedrock Pricing Model (Concise)\n",
      "\n",
      "Amazon Bedrock uses a **pay-per-use model** based on:\n",
      "\n",
      "1. **Token-based pricing**: Charged separately for input tokens and output tokens\n",
      "2. **On-demand inference**: Pay as you go with no upfront costs\n",
      "3. **Provisioned Throughput**: Optional capacity purchasing for consistent performance and potentially lower per-token costs\n",
      "\n",
      "**Key points:**\n",
      "- Different models have different pricing per token\n",
      "- Input and output tokens are priced separately\n",
      "- Provisioned Throughput offers committed capacity for high-volume use cases\n",
      "- Additional charges apply for Guardrails evaluation when used\n",
      "\n",
      "## CDK Best Practices Summary\n",
      "\n",
      "### Core Development Principles\n",
      "- **Always use `cdk synth`** instead of direct TypeScript compilation for validation\n",
      "- **Initialize projects properly** with `cdk init app --language [typescript|python]`\n",
      "- **Security first**: Apply CDK Nag to all stacks for AWS security best practices\n",
      "\n",
      "### Architecture Approach\n",
      "1. **Use AWS Solutions Constructs** for common patterns (API + Lambda + DynamoDB, etc.)\n",
      "2. **Use GenAI CDK Constructs** for AI/ML workloads (Bedrock, SageMaker, vector stores)\n",
      "3. **Combine both approaches** in the same project when needed\n",
      "\n",
      "### Essential Tools\n",
      "- **CDK Nag**: Mandatory security validation (`ExplainCDKNagRule`, `CheckCDKNagSuppressions`)\n",
      "- **Lambda Powertools**: Always implement for observability (requires Lambda layers)\n",
      "- **Bedrock Agents**: Use `GenerateBedrockAgentSchema` for Action Groups with OpenAPI schemas\n",
      "\n",
      "### Workflow\n",
      "1. Get guidance → 2. Initialize project → 3. Choose constructs → 4. Apply security → 5. Validate with `cdk synth` → 6. Deploy\n",
      "\n",
      "**Key principle**: Prefer vetted patterns over custom implementations to accelerate development and ensure best practices."
     ]
    }
   ],
   "source": [
    "# Create an agent with MCP tools\n",
    "with aws_docs_mcp_client, cdk_mcp_client:\n",
    "    # Get the tools from the MCP server\n",
    "    tools = aws_docs_mcp_client.list_tools_sync() + cdk_mcp_client.list_tools_sync()\n",
    "\n",
    "    # Create an agent with these tools\n",
    "    agent = Agent(\n",
    "        model=\"global.anthropic.claude-sonnet-4-20250514-v1:0\",\n",
    "        tools=tools)\n",
    "\n",
    "    response = agent(\n",
    "        \"What is Amazon Bedrock pricing model. Be concise. Also what are the best practices related to CDK?\"\n",
    "    )"
   ]
  },
  {
   "cell_type": "markdown",
   "metadata": {},
   "source": [
    "### Congratulations!\n",
    "\n",
    "In this notebook you learned how to connect with MCP servers using Strands Agent and two MCP transport protocols: stdio and Streamable HTTP. You also learned how to connect multiple MCP servers to the same agent. Next, let's see how to use different models with your agent"
   ]
  }
 ],
 "metadata": {
  "kernelspec": {
   "display_name": ".venv",
   "language": "python",
   "name": "python3"
  },
  "language_info": {
   "codemirror_mode": {
    "name": "ipython",
    "version": 3
   },
   "file_extension": ".py",
   "mimetype": "text/x-python",
   "name": "python",
   "nbconvert_exporter": "python",
   "pygments_lexer": "ipython3",
   "version": "3.13.7"
  }
 },
 "nbformat": 4,
 "nbformat_minor": 4
}
