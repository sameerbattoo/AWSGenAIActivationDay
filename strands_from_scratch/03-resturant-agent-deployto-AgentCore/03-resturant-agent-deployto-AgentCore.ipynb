{
 "cells": [
  {
   "cell_type": "markdown",
   "id": "d03f1cf9",
   "metadata": {},
   "source": [
    "# Hosting Strands Agents with Amazon Bedrock models in Amazon Bedrock AgentCore Runtime\n",
    "\n",
    "## Overview\n",
    "\n",
    "In this tutorial we will learn how to host your existing agent, using Amazon Bedrock AgentCore Runtime. We will provide examples using Amazon Bedrock models and non-Bedrock models such as Azure OpenAI and Gemini.\n",
    "\n",
    "\n",
    "### Tutorial Details\n",
    "\n",
    "\n",
    "| Information         | Details                                                                          |\n",
    "|:--------------------|:---------------------------------------------------------------------------------|\n",
    "| Tutorial type       | Conversational                                                                   |\n",
    "| Agent type          | Single                                                                           |\n",
    "| Agentic Framework   | Strands Agents                                                                   |\n",
    "| Tutorial components | Hosting agent on AgentCore Runtime. Using Strands Agent and Amazon Bedrock Model |\n",
    "| Tutorial vertical   | Cross-vertical                                                                   |\n",
    "| Example complexity  | Easy                                                                             |\n",
    "| SDK used            | Amazon BedrockAgentCore Python SDK and boto3                                     |\n",
    "\n",
    "\n",
    "\n",
    "### Tutorial Key Features\n",
    "\n",
    "* Hosting Agents on Amazon Bedrock AgentCore Runtime\n",
    "* Using Amazon Bedrock models\n",
    "* Using Strands Agents\n"
   ]
  },
  {
   "cell_type": "code",
   "execution_count": 3,
   "id": "b38f0569",
   "metadata": {},
   "outputs": [],
   "source": [
    "!pip install --force-reinstall -U -r requirements.txt --quiet"
   ]
  },
  {
   "cell_type": "markdown",
   "id": "aa0c0bf2",
   "metadata": {},
   "source": [
    "## What happens behind the scenes?\n",
    "\n",
    "When you use `BedrockAgentCoreApp`, it automatically:\n",
    "\n",
    "* Creates an HTTP server that listens on the port 8080\n",
    "* Implements the required `/invocations` endpoint for processing the agent's requirements\n",
    "* Implements the `/ping` endpoint for health checks (very important for asynchronous agents)\n",
    "* Handles proper content types and response formats\n",
    "* Manages error handling according to the AWS standards"
   ]
  },
  {
   "cell_type": "markdown",
   "id": "15d5cbb9",
   "metadata": {},
   "source": [
    "### Configure AgentCore Runtime deployment\n",
    "\n",
    "First we will use our starter toolkit to configure the AgentCore Runtime deployment with an entrypoint, the execution role we just created and a requirements file. We will also configure the starter kit to auto create the Amazon ECR repository on launch.\n",
    "\n",
    "During the configure step, your docker file will be generated based on your application code\n",
    "\n",
    "<div style=\"text-align:left\">\n",
    "    <img src=\"images/configure.png\" width=\"60%\"/>\n",
    "</div>"
   ]
  },
  {
   "cell_type": "code",
   "execution_count": 11,
   "id": "e743ff7e",
   "metadata": {},
   "outputs": [
    {
     "name": "stderr",
     "output_type": "stream",
     "text": [
      "Entrypoint parsed: file=/Users/sbattoo/Src/AIActivationDay/strands_from_scratch/03-resturant-agent-deployto-AgentCore/restaurant_strands_agent.py, bedrock_agentcore_name=restaurant_strands_agent\n",
      "Configuring BedrockAgentCore agent: resturant_strands_agent\n"
     ]
    },
    {
     "data": {
      "text/html": [
       "<pre style=\"white-space:pre;overflow-x:auto;line-height:normal;font-family:Menlo,'DejaVu Sans Mono',consolas,'Courier New',monospace\">\n",
       "<span style=\"color: #808000; text-decoration-color: #808000; font-weight: bold; text-decoration: underline\">⚠️  ℹ️  No container engine found (Docker/Finch/Podman not installed)</span>\n",
       "<span style=\"color: #808000; text-decoration-color: #808000; font-weight: bold; text-decoration: underline\">✅ Default deployment uses CodeBuild (no container engine needed)</span>\n",
       "<span style=\"color: #808000; text-decoration-color: #808000; font-weight: bold; text-decoration: underline\">💡 Run </span><span style=\"color: #008000; text-decoration-color: #008000; text-decoration: underline\">'agentcore launch'</span><span style=\"color: #808000; text-decoration-color: #808000; font-weight: bold; text-decoration: underline\"> for cloud-based building and deployment</span>\n",
       "<span style=\"color: #808000; text-decoration-color: #808000; font-weight: bold; text-decoration: underline\">💡 For local builds, install Docker, Finch, or Podman</span>\n",
       "</pre>\n"
      ],
      "text/plain": [
       "\n",
       "\u001b[1;4;33m⚠️  ℹ️  No container engine found \u001b[0m\u001b[1;4;33m(\u001b[0m\u001b[1;4;33mDocker/Finch/Podman not installed\u001b[0m\u001b[1;4;33m)\u001b[0m\n",
       "\u001b[1;4;33m✅ Default deployment uses CodeBuild \u001b[0m\u001b[1;4;33m(\u001b[0m\u001b[1;4;33mno container engine needed\u001b[0m\u001b[1;4;33m)\u001b[0m\n",
       "\u001b[1;4;33m💡 Run \u001b[0m\u001b[4;32m'agentcore launch'\u001b[0m\u001b[1;4;33m for cloud-based building and deployment\u001b[0m\n",
       "\u001b[1;4;33m💡 For local builds, install Docker, Finch, or Podman\u001b[0m\n"
      ]
     },
     "metadata": {},
     "output_type": "display_data"
    },
    {
     "name": "stderr",
     "output_type": "stream",
     "text": [
      "Generated Dockerfile: /Users/sbattoo/Src/AIActivationDay/strands_from_scratch/03-resturant-agent-deployto-AgentCore/Dockerfile\n",
      "Generated .dockerignore: /Users/sbattoo/Src/AIActivationDay/strands_from_scratch/03-resturant-agent-deployto-AgentCore/.dockerignore\n",
      "Keeping 'resturant_strands_agent' as default agent\n",
      "Bedrock AgentCore configured: /Users/sbattoo/Src/AIActivationDay/strands_from_scratch/03-resturant-agent-deployto-AgentCore/.bedrock_agentcore.yaml\n"
     ]
    },
    {
     "data": {
      "text/plain": [
       "ConfigureResult(config_path=PosixPath('/Users/sbattoo/Src/AIActivationDay/strands_from_scratch/03-resturant-agent-deployto-AgentCore/.bedrock_agentcore.yaml'), dockerfile_path=PosixPath('/Users/sbattoo/Src/AIActivationDay/strands_from_scratch/03-resturant-agent-deployto-AgentCore/Dockerfile'), dockerignore_path=PosixPath('/Users/sbattoo/Src/AIActivationDay/strands_from_scratch/03-resturant-agent-deployto-AgentCore/.dockerignore'), runtime='None', region='us-west-2', account_id='175918693907', execution_role='arn:aws:iam::175918693907:role/_GenAIActivationDay_role', ecr_repository=None, auto_create_ecr=True)"
      ]
     },
     "execution_count": 11,
     "metadata": {},
     "output_type": "execute_result"
    }
   ],
   "source": [
    "from bedrock_agentcore_starter_toolkit import Runtime\n",
    "from boto3.session import Session\n",
    "boto_session = Session()\n",
    "region = boto_session.region_name\n",
    "\n",
    "agentcore_runtime = Runtime()\n",
    "agent_name = \"resturant_strands_agent\"\n",
    "response = agentcore_runtime.configure(\n",
    "    entrypoint=\"restaurant_strands_agent.py\",\n",
    "    execution_role=\"arn:aws:iam::175918693907:role/_GenAIActivationDay_role\",\n",
    "    auto_create_ecr=True,\n",
    "    requirements_file=\"requirements.txt\",\n",
    "    region=region,\n",
    "    agent_name=agent_name\n",
    ")\n",
    "response"
   ]
  },
  {
   "cell_type": "markdown",
   "id": "99353e42",
   "metadata": {},
   "source": [
    "### Launching agent to AgentCore Runtime\n",
    "\n",
    "Now that we've got a docker file, let's launch the agent to the AgentCore Runtime. This will create the Amazon ECR repository and the AgentCore Runtime\n",
    "\n",
    "<div style=\"text-align:left\">\n",
    "    <img src=\"images/launch.png\" width=\"75%\"/>\n",
    "</div>"
   ]
  },
  {
   "cell_type": "code",
   "execution_count": 12,
   "id": "4553a3a9",
   "metadata": {},
   "outputs": [
    {
     "name": "stderr",
     "output_type": "stream",
     "text": [
      "🚀 CodeBuild mode: building in cloud (RECOMMENDED - DEFAULT)\n",
      "   • Build ARM64 containers in the cloud with CodeBuild\n",
      "   • No local Docker required\n",
      "💡 Available deployment modes:\n",
      "   • runtime.launch()                           → CodeBuild (current)\n",
      "   • runtime.launch(local=True)                 → Local development\n",
      "   • runtime.launch(local_build=True)           → Local build + cloud deploy (NEW)\n",
      "Starting CodeBuild ARM64 deployment for agent 'resturant_strands_agent' to account 175918693907 (us-west-2)\n",
      "Setting up AWS resources (ECR repository, execution roles)...\n",
      "Getting or creating ECR repository for agent: resturant_strands_agent\n",
      "✅ ECR repository available: 175918693907.dkr.ecr.us-west-2.amazonaws.com/bedrock-agentcore-resturant_strands_agent\n",
      "Using execution role from config: arn:aws:iam::175918693907:role/_GenAIActivationDay_role\n",
      "Preparing CodeBuild project and uploading source...\n",
      "Getting or creating CodeBuild execution role for agent: resturant_strands_agent\n",
      "Role name: AmazonBedrockAgentCoreSDKCodeBuild-us-west-2-b382033528\n"
     ]
    },
    {
     "name": "stdout",
     "output_type": "stream",
     "text": [
      "✅ Reusing existing ECR repository: 175918693907.dkr.ecr.us-west-2.amazonaws.com/bedrock-agentcore-resturant_strands_agent\n"
     ]
    },
    {
     "name": "stderr",
     "output_type": "stream",
     "text": [
      "Reusing existing CodeBuild execution role: arn:aws:iam::175918693907:role/AmazonBedrockAgentCoreSDKCodeBuild-us-west-2-b382033528\n",
      "Using .dockerignore with 44 patterns\n",
      "Uploaded source to S3: resturant_strands_agent/source.zip\n",
      "Updated CodeBuild project: bedrock-agentcore-resturant_strands_agent-builder\n",
      "Starting CodeBuild build (this may take several minutes)...\n",
      "Starting CodeBuild monitoring...\n",
      "🔄 QUEUED started (total: 0s)\n",
      "✅ QUEUED completed in 1.1s\n",
      "🔄 PROVISIONING started (total: 1s)\n",
      "✅ PROVISIONING completed in 10.6s\n",
      "🔄 DOWNLOAD_SOURCE started (total: 12s)\n",
      "✅ DOWNLOAD_SOURCE completed in 2.1s\n",
      "🔄 BUILD started (total: 14s)\n",
      "✅ BUILD completed in 23.5s\n",
      "🔄 POST_BUILD started (total: 37s)\n",
      "✅ POST_BUILD completed in 17.0s\n",
      "🔄 FINALIZING started (total: 54s)\n",
      "✅ FINALIZING completed in 1.1s\n",
      "🔄 COMPLETED started (total: 55s)\n",
      "✅ COMPLETED completed in 1.1s\n",
      "🎉 CodeBuild completed successfully in 0m 56s\n",
      "CodeBuild completed successfully\n",
      "✅ CodeBuild project configuration saved\n",
      "Deploying to Bedrock AgentCore...\n",
      "⚠️ Session ID will be reset to connect to the updated agent. The previous agent remains accessible via the original session ID: ed3104ac-fb02-4b2c-8b89-8ea6b35a8f42\n",
      "✅ Agent created/updated: arn:aws:bedrock-agentcore:us-west-2:175918693907:runtime/resturant_strands_agent-YafN2JAozu\n",
      "Observability is enabled, configuring Transaction Search...\n",
      "CloudWatch Logs resource policy already configured\n",
      "X-Ray trace destination already configured\n",
      "X-Ray indexing rule already configured\n",
      "✅ Transaction Search already fully configured\n",
      "🔍 GenAI Observability Dashboard:\n",
      "   https://console.aws.amazon.com/cloudwatch/home?region=us-west-2#gen-ai-observability/agent-core\n",
      "Polling for endpoint to be ready...\n",
      "Agent endpoint: arn:aws:bedrock-agentcore:us-west-2:175918693907:runtime/resturant_strands_agent-YafN2JAozu/runtime-endpoint/DEFAULT\n",
      "Deployment completed successfully - Agent: arn:aws:bedrock-agentcore:us-west-2:175918693907:runtime/resturant_strands_agent-YafN2JAozu\n",
      "Built with CodeBuild: bedrock-agentcore-resturant_strands_agent-builder:b8dba309-ab02-43b8-b27f-c6440593b9a3\n",
      "Deployed to cloud: arn:aws:bedrock-agentcore:us-west-2:175918693907:runtime/resturant_strands_agent-YafN2JAozu\n",
      "ECR image: 175918693907.dkr.ecr.us-west-2.amazonaws.com/bedrock-agentcore-resturant_strands_agent\n",
      "🔍 Agent logs available at:\n",
      "   /aws/bedrock-agentcore/runtimes/resturant_strands_agent-YafN2JAozu-DEFAULT --log-stream-name-prefix \"2025/09/18/\\[runtime-logs]\"\n",
      "   /aws/bedrock-agentcore/runtimes/resturant_strands_agent-YafN2JAozu-DEFAULT --log-stream-names \"otel-rt-logs\"\n",
      "💡 Tail logs with: aws logs tail /aws/bedrock-agentcore/runtimes/resturant_strands_agent-YafN2JAozu-DEFAULT --log-stream-name-prefix \"2025/09/18/\\[runtime-logs]\" --follow\n",
      "💡 Or view recent logs: aws logs tail /aws/bedrock-agentcore/runtimes/resturant_strands_agent-YafN2JAozu-DEFAULT --log-stream-name-prefix \"2025/09/18/\\[runtime-logs]\" --since 1h\n"
     ]
    }
   ],
   "source": [
    "launch_result = agentcore_runtime.launch(auto_update_on_conflict=True)"
   ]
  },
  {
   "cell_type": "markdown",
   "id": "2531c1dc",
   "metadata": {},
   "source": [
    "### Checking for the AgentCore Runtime Status\n",
    "Now that we've deployed the AgentCore Runtime, let's check for it's deployment status"
   ]
  },
  {
   "cell_type": "code",
   "execution_count": 13,
   "id": "739acd57",
   "metadata": {},
   "outputs": [
    {
     "name": "stderr",
     "output_type": "stream",
     "text": [
      "Retrieved Bedrock AgentCore status for: resturant_strands_agent\n"
     ]
    },
    {
     "data": {
      "text/plain": [
       "'READY'"
      ]
     },
     "execution_count": 13,
     "metadata": {},
     "output_type": "execute_result"
    }
   ],
   "source": [
    "import time\n",
    "status_response = agentcore_runtime.status()\n",
    "status = status_response.endpoint['status']\n",
    "end_status = ['READY', 'CREATE_FAILED', 'DELETE_FAILED', 'UPDATE_FAILED']\n",
    "while status not in end_status:\n",
    "    time.sleep(10)\n",
    "    status_response = agentcore_runtime.status()\n",
    "    status = status_response.endpoint['status']\n",
    "    print(status)\n",
    "status"
   ]
  },
  {
   "cell_type": "markdown",
   "id": "4f502f52",
   "metadata": {},
   "source": [
    "### Invoking AgentCore Runtime\n",
    "\n",
    "Finally, we can invoke our AgentCore Runtime with a payload\n",
    "\n",
    "<div style=\"text-align:left\">\n",
    "    <img src=\"images/invoke.png\" width=75%\"/>\n",
    "</div>"
   ]
  },
  {
   "cell_type": "code",
   "execution_count": 14,
   "id": "1011b16e",
   "metadata": {},
   "outputs": [
    {
     "data": {
      "text/plain": [
       "{'ResponseMetadata': {'RequestId': '935dc2d2-17dc-42b0-b621-574f6000a816',\n",
       "  'HTTPStatusCode': 200,\n",
       "  'HTTPHeaders': {'date': 'Thu, 18 Sep 2025 23:32:44 GMT',\n",
       "   'content-type': 'application/json',\n",
       "   'transfer-encoding': 'chunked',\n",
       "   'connection': 'keep-alive',\n",
       "   'x-amzn-requestid': '935dc2d2-17dc-42b0-b621-574f6000a816',\n",
       "   'baggage': 'Self=1-68cc967f-745a93d539d061dc305e2a34,session.id=ef8cc89a-28ed-4c6d-adcb-1176ffd59756',\n",
       "   'x-amzn-bedrock-agentcore-runtime-session-id': 'ef8cc89a-28ed-4c6d-adcb-1176ffd59756',\n",
       "   'x-amzn-trace-id': 'Root=1-68cc967f-0698582d0ea366d964ecb806;Self=1-68cc967f-745a93d539d061dc305e2a34'},\n",
       "  'RetryAttempts': 0},\n",
       " 'runtimeSessionId': 'ef8cc89a-28ed-4c6d-adcb-1176ffd59756',\n",
       " 'traceId': 'Root=1-68cc967f-0698582d0ea366d964ecb806;Self=1-68cc967f-745a93d539d061dc305e2a34',\n",
       " 'baggage': 'Self=1-68cc967f-745a93d539d061dc305e2a34,session.id=ef8cc89a-28ed-4c6d-adcb-1176ffd59756',\n",
       " 'contentType': 'application/json',\n",
       " 'statusCode': 200,\n",
       " 'response': [\"<answer>\\nHello! I'm Restaurant Helper, and I'm happy to suggest some dining options in San Francisco for you.\\n\\nBased on our restaurant directory, here's a great option in San Francisco:\\n\\n**Rice & Spice**\\nAddress: 539 Fusion Boulevard, San Francisco, CA 94110\\nPhone: (415) 555-6723\\nCuisine: Pan-Asian Fusion\\n\\nTheir menu includes:\\n- Small Bites like Pork Belly Bao Buns ($12) and Korean Fried Chicken ($14)\\n- Main Dishes including Miso Black Cod ($28), Red Curry ($19), and Bibimbap ($17)\\n- Desserts such as Mango Sticky Rice ($8) and Matcha Tiramisu ($9)\\n\\nIf you're willing to travel a bit outside San Francisco, there are also excellent options in nearby areas:\\n\\nIn Monterey (about 2 hours south):\\n**Ocean Harvest** - Sustainable Seafood restaurant\\n\\nIn Napa (about 1 hour northeast):\\n**Ember & Vine** - Wood-Fired Mediterranean cuisine\\n\\nWould you like more details about any of these restaurants or help with making a reservation?\\n</answer>\"]}"
      ]
     },
     "execution_count": 14,
     "metadata": {},
     "output_type": "execute_result"
    }
   ],
   "source": [
    "invoke_response = agentcore_runtime.invoke({\"prompt\": \"Hi, where can I eat in San Francisco?\"})\n",
    "invoke_response"
   ]
  },
  {
   "cell_type": "code",
   "execution_count": 15,
   "id": "e90dcd56",
   "metadata": {},
   "outputs": [
    {
     "data": {
      "text/plain": [
       "{'ResponseMetadata': {'RequestId': '8a72ab1f-d21c-4f96-8778-3aa66747f661',\n",
       "  'HTTPStatusCode': 200,\n",
       "  'HTTPHeaders': {'date': 'Thu, 18 Sep 2025 23:33:53 GMT',\n",
       "   'content-type': 'application/json',\n",
       "   'transfer-encoding': 'chunked',\n",
       "   'connection': 'keep-alive',\n",
       "   'x-amzn-requestid': '8a72ab1f-d21c-4f96-8778-3aa66747f661',\n",
       "   'baggage': 'Self=1-68cc96de-64401e5706c075051e66486b,session.id=ef8cc89a-28ed-4c6d-adcb-1176ffd59756',\n",
       "   'x-amzn-bedrock-agentcore-runtime-session-id': 'ef8cc89a-28ed-4c6d-adcb-1176ffd59756',\n",
       "   'x-amzn-trace-id': 'Root=1-68cc96de-637a2772214d470e674ab163;Self=1-68cc96de-64401e5706c075051e66486b'},\n",
       "  'RetryAttempts': 0},\n",
       " 'runtimeSessionId': 'ef8cc89a-28ed-4c6d-adcb-1176ffd59756',\n",
       " 'traceId': 'Root=1-68cc96de-637a2772214d470e674ab163;Self=1-68cc96de-64401e5706c075051e66486b',\n",
       " 'baggage': 'Self=1-68cc96de-64401e5706c075051e66486b,session.id=ef8cc89a-28ed-4c6d-adcb-1176ffd59756',\n",
       " 'contentType': 'application/json',\n",
       " 'statusCode': 200,\n",
       " 'response': [\"I'd be happy to help you make a reservation at Rice & Spice for tonight! To proceed with your reservation, I'll need a few more details from you:\\n\\n1. What time would you like to dine tonight?\\n2. How many people will be in your party?\\n3. Do you have any special requests or seating preferences?\\n\\nOnce I have this information, I can help you complete your reservation at Rice & Spice (539 Fusion Boulevard, San Francisco, CA 94110).\"]}"
      ]
     },
     "execution_count": 15,
     "metadata": {},
     "output_type": "execute_result"
    }
   ],
   "source": [
    "invoke_response = agentcore_runtime.invoke({\"prompt\": \"Make a reservation for tonight at Rice & Spice\"})\n",
    "invoke_response"
   ]
  },
  {
   "cell_type": "code",
   "execution_count": 17,
   "id": "435b8296",
   "metadata": {},
   "outputs": [
    {
     "data": {
      "text/plain": [
       "{'ResponseMetadata': {'RequestId': 'c5979889-7556-4c80-87be-2616d0db4029',\n",
       "  'HTTPStatusCode': 200,\n",
       "  'HTTPHeaders': {'date': 'Thu, 18 Sep 2025 23:34:44 GMT',\n",
       "   'content-type': 'application/json',\n",
       "   'transfer-encoding': 'chunked',\n",
       "   'connection': 'keep-alive',\n",
       "   'x-amzn-requestid': 'c5979889-7556-4c80-87be-2616d0db4029',\n",
       "   'baggage': 'Self=1-68cc9709-7cb4a9571c2aa8dc180994a6,session.id=ef8cc89a-28ed-4c6d-adcb-1176ffd59756',\n",
       "   'x-amzn-bedrock-agentcore-runtime-session-id': 'ef8cc89a-28ed-4c6d-adcb-1176ffd59756',\n",
       "   'x-amzn-trace-id': 'Root=1-68cc9709-01b503e50a83a05c227e5311;Self=1-68cc9709-7cb4a9571c2aa8dc180994a6'},\n",
       "  'RetryAttempts': 0},\n",
       " 'runtimeSessionId': 'ef8cc89a-28ed-4c6d-adcb-1176ffd59756',\n",
       " 'traceId': 'Root=1-68cc9709-01b503e50a83a05c227e5311;Self=1-68cc9709-7cb4a9571c2aa8dc180994a6',\n",
       " 'baggage': 'Self=1-68cc9709-7cb4a9571c2aa8dc180994a6,session.id=ef8cc89a-28ed-4c6d-adcb-1176ffd59756',\n",
       " 'contentType': 'application/json',\n",
       " 'statusCode': 200,\n",
       " 'response': [\"<answer>\\nThank you for providing those details, Sameer. I'm Restaurant Helper, and I'd be happy to assist with your reservation at Rice & Spice.\\n\\nTo complete your reservation for tonight at 10:00 PM for a party of 5 people under the name Sameer, please contact the restaurant directly at (415) 555-6723. As this is a same-day reservation for this evening, calling them is the most reliable way to confirm availability.\\n\\nRice & Spice is located at 539 Fusion Boulevard, San Francisco, CA 94110, and offers delicious Pan-Asian Fusion cuisine. Their menu includes popular items like Korean Fried Chicken, Miso Black Cod, and Singapore Chili Crab Noodles that your party might enjoy.\\n\\nWould you like any additional information about their menu or location?\\n</answer>\"]}"
      ]
     },
     "execution_count": 17,
     "metadata": {},
     "output_type": "execute_result"
    }
   ],
   "source": [
    "invoke_response = agentcore_runtime.invoke({\"prompt\": \"At 10pm today, for 5 people in the name of Sameer\"})\n",
    "invoke_response"
   ]
  },
  {
   "cell_type": "markdown",
   "id": "145f0cc8",
   "metadata": {},
   "source": [
    "### Invoking AgentCore Runtime with boto3\n",
    "\n",
    "Now that your AgentCore Runtime was created you can invoke it with any AWS SDK. For instance, you can use the boto3 `invoke_agent_runtime` method for it."
   ]
  },
  {
   "cell_type": "code",
   "execution_count": 18,
   "id": "950ebd7c",
   "metadata": {},
   "outputs": [
    {
     "data": {
      "text/markdown": [
       "<answer>\n",
       "Restaurant Helper here! Based on my search, I'd highly recommend Botanic Table, which is a fully plant-based/vegan restaurant located at 1845 Garden Avenue in Portland, OR. \n",
       "\n",
       "Their menu includes delicious vegan options such as:\n",
       "\n",
       "Small Plates:\n",
       "- Heirloom Tomato Carpaccio with black garlic and basil oil ($12)\n",
       "- Charred Brussels Sprouts with maple glaze and smoked almond ($10)\n",
       "- Watermelon \"Poke\" with avocado, cucumber, and ponzu ($13)\n",
       "\n",
       "Large Plates:\n",
       "- King Oyster Mushroom \"Scallops\" with cauliflower purée ($19)\n",
       "- Jackfruit Barbacoa Tacos with cashew crema ($16)\n",
       "- Ancient Grain Bowl with seasonal vegetables and miso dressing ($17)\n",
       "- Charred Eggplant Steak with romesco sauce ($18)\n",
       "\n",
       "They also offer vegan desserts including Coconut Milk Panna Cotta, Dark Chocolate Avocado Mousse, and Cashew Cheesecake.\n",
       "\n",
       "Would you like me to help you make a reservation at Botanic Table or provide information about any other restaurants?\n",
       "</answer>"
      ],
      "text/plain": [
       "<IPython.core.display.Markdown object>"
      ]
     },
     "metadata": {},
     "output_type": "display_data"
    }
   ],
   "source": [
    "import boto3\n",
    "from IPython.display import Markdown, display\n",
    "import json\n",
    "agent_arn = launch_result.agent_arn\n",
    "agentcore_client = boto3.client(\n",
    "    'bedrock-agentcore',\n",
    "    region_name=region\n",
    ")\n",
    "\n",
    "boto3_response = agentcore_client.invoke_agent_runtime(\n",
    "    agentRuntimeArn=agent_arn,\n",
    "    qualifier=\"DEFAULT\",\n",
    "    payload=json.dumps({\"prompt\": \"Hi, Suggest some places where I can get Vegan?\"})\n",
    ")\n",
    "\n",
    "if \"text/event-stream\" in boto3_response.get(\"contentType\", \"\"):\n",
    "    content = []\n",
    "    for line in boto3_response[\"response\"].iter_lines(chunk_size=1):\n",
    "        if line:\n",
    "            line = line.decode(\"utf-8\")\n",
    "            if line.startswith(\"data: \"):\n",
    "                line = line[6:]\n",
    "                print(line)\n",
    "                content.append(line)\n",
    "    display(Markdown(\"\\n\".join(content)))\n",
    "else:\n",
    "    try:\n",
    "        events = []\n",
    "        for event in boto3_response.get(\"response\", []):\n",
    "            events.append(event)\n",
    "    except Exception as e:\n",
    "        events = [f\"Error reading EventStream: {e}\"]\n",
    "    display(Markdown(json.loads(events[0].decode(\"utf-8\"))))\n",
    "\n",
    "\n",
    "\n"
   ]
  },
  {
   "cell_type": "markdown",
   "id": "07efe272",
   "metadata": {},
   "source": [
    "## Congrats!\n",
    "\n",
    "Congrats, you've deployed and invoked you agent hosted on AgentCore Runtime. As optional step, you can delete the prerequisite infrastructure created"
   ]
  },
  {
   "cell_type": "code",
   "execution_count": null,
   "id": "7c33afe0",
   "metadata": {},
   "outputs": [],
   "source": [
    "# !sh cleanup.sh"
   ]
  }
 ],
 "metadata": {
  "kernelspec": {
   "display_name": ".venv",
   "language": "python",
   "name": "python3"
  },
  "language_info": {
   "codemirror_mode": {
    "name": "ipython",
    "version": 3
   },
   "file_extension": ".py",
   "mimetype": "text/x-python",
   "name": "python",
   "nbconvert_exporter": "python",
   "pygments_lexer": "ipython3",
   "version": "3.13.7"
  }
 },
 "nbformat": 4,
 "nbformat_minor": 5
}
